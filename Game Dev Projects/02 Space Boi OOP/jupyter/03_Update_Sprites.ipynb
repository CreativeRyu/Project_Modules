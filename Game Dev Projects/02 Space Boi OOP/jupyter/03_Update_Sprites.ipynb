{
 "cells": [
  {
   "cell_type": "markdown",
   "metadata": {},
   "source": [
    "# **<span style=\"color:deepskyblue\">Updating Sprites</span>**\n",
    "\n",
    "<img src=\"../../db_assets/Super_Goku_Idle.gif\" style=\"height: 200px\"/>\n",
    "<img src=\"../../db_assets/Vegeta_Idle_SuperSaiyan.gif\" style=\"height: 200px\"/>\n",
    "\n",
    "\n",
    "In einer Sprite Klasse können Funktionalitäten für\\\n",
    "Inputs, Timer, Attributwerte, Animationen oder Physiken eingebaut werden.\\\n",
    "Zusätzlich wird der Klasse per default die *update()* Methode hinzugefügt.\\\n",
    "Diese Methode wird von der Sprite Gruppe aufgerufen, in sich der Sprite befindet.\n"
   ]
  },
  {
   "cell_type": "markdown",
   "metadata": {},
   "source": [
    "***"
   ]
  },
  {
   "cell_type": "code",
   "execution_count": null,
   "metadata": {},
   "outputs": [],
   "source": [
    "class Ship(pygame.sprite.Sprite):\n",
    "    def __init__(self, group):\n",
    "        super().__init__(group)\n",
    "        \n",
    "        self.image = pygame.image.load(path+\"/images/player/SmartSpaceShip.png\").convert_alpha()\n",
    "        self.image = pygame.transform.scale2x(self.image)\n",
    "        self.rect = self.image.get_rect(center = (WINDOW_WIDTH / 2, WINDOW_HEIGHT / 2))\n",
    "    \n",
    "    def update(self):\n",
    "        print(\"irgendwas\")"
   ]
  },
  {
   "cell_type": "code",
   "execution_count": null,
   "metadata": {},
   "outputs": [],
   "source": [
    "# Background\n",
    "display_surface.blit(bg_surface, (0, 0))\n",
    "\n",
    "# Update\n",
    "spaceship_group.update()\n",
    "\n",
    "# Graphic Drawing\n",
    "spaceship_group.draw(display_surface)\n",
    "laser_group.draw(display_surface)"
   ]
  },
  {
   "cell_type": "markdown",
   "metadata": {},
   "source": [
    "***"
   ]
  },
  {
   "cell_type": "markdown",
   "metadata": {},
   "source": [
    "## **<span style=\"color:deepskyblue\">Controls in Ship Class</span>**"
   ]
  },
  {
   "cell_type": "code",
   "execution_count": null,
   "metadata": {},
   "outputs": [],
   "source": [
    "# Maus\n",
    "class Ship(pygame.sprite.Sprite):\n",
    "    def __init__(self, group):\n",
    "        # 1. Parent class muss initialisiert werden\n",
    "        super().__init__(group)\n",
    "        \n",
    "        # 2. Surface ist zwingend notwendig -> und muss als self.image bezeichnet werden\n",
    "        self.image = pygame.image.load(path+\"/images/player/SmartSpaceShip.png\").convert_alpha()\n",
    "        self.image = pygame.transform.scale2x(self.image)\n",
    "        \n",
    "        # 3. ein Rectangle ist ebenfalls zwingend notwendig\n",
    "        self.rect = self.image.get_rect(center = (WINDOW_WIDTH / 2, WINDOW_HEIGHT / 2))\n",
    "    \n",
    "    def input_position(self):\n",
    "        position = pygame.mouse.get_pos()\n",
    "        self.rect.center = position\n",
    "    \n",
    "    def update(self):\n",
    "        self.input_position()"
   ]
  },
  {
   "cell_type": "code",
   "execution_count": null,
   "metadata": {},
   "outputs": [],
   "source": [
    "# Controller\n",
    "class Ship(pygame.sprite.Sprite):\n",
    "    def __init__(self, group):\n",
    "        super().__init__(group)\n",
    "        self.image = pygame.image.load(path+\"/images/player/SmartSpaceShip.png\").convert_alpha()\n",
    "        self.image = pygame.transform.scale2x(self.image)\n",
    "        self.rect = self.image.get_rect(center = (WINDOW_WIDTH / 2, WINDOW_HEIGHT / 2))\n",
    "        self.x_speed = 0\n",
    "        self.y_speed = 0\n",
    "        self.move_speed = 1.5\n",
    "    \n",
    "    def input_position(self):\n",
    "        position = pygame.mouse.get_pos()\n",
    "        self.rect.center = position\n",
    "    \n",
    "    def get_input(self):\n",
    "        self.x_speed = round(pygame.joystick.Joystick(0).get_axis(0))\n",
    "        self.y_speed = round(pygame.joystick.Joystick(0).get_axis(1))\n",
    "\n",
    "    def move(self):\n",
    "        magnitude = math.sqrt(self.x_speed ** 2 + self.y_speed ** 2)\n",
    "        \n",
    "        if magnitude != 0:\n",
    "            normalized_x = self.x_speed / magnitude\n",
    "            normalized_y = self.y_speed / magnitude\n",
    "        else:\n",
    "            normalized_x, normalized_y = 0, 0\n",
    "            \n",
    "        self.rect.move_ip(normalized_x * self.move_speed, normalized_y * self.move_speed)\n",
    "    \n",
    "    def update(self):\n",
    "        self.get_input()\n",
    "        self.move()"
   ]
  },
  {
   "cell_type": "markdown",
   "metadata": {},
   "source": [
    "***"
   ]
  },
  {
   "cell_type": "markdown",
   "metadata": {},
   "source": [
    "## **<span style=\"color:deepskyblue\">Laser on Button Press</span>**\n",
    "\n",
    "<img src=\"../../db_assets/PressingButton.gif\" style=\"height: 230px\"/>\n"
   ]
  },
  {
   "cell_type": "code",
   "execution_count": null,
   "metadata": {},
   "outputs": [],
   "source": [
    "# Mouse\n",
    "def shoot_laser(self):\n",
    "    if pygame.mouse.get_pressed()[0]:\n",
    "        print(\"Laser\")"
   ]
  },
  {
   "cell_type": "code",
   "execution_count": null,
   "metadata": {},
   "outputs": [],
   "source": [
    "# Controller\n",
    "def fire_laser(self):\n",
    "    if pygame.joystick.Joystick(0).get_button(0) or pygame.joystick.Joystick(0).get_button(1):\n",
    "        print(\"Laser\")"
   ]
  },
  {
   "cell_type": "markdown",
   "metadata": {},
   "source": [
    "***"
   ]
  },
  {
   "cell_type": "markdown",
   "metadata": {},
   "source": [
    "## **<span style=\"color:#fcba04\">Code</span> Challenge**\n",
    "\n",
    "Implementiere den Laser Cooldown innerhalb der Ship Klasse."
   ]
  },
  {
   "cell_type": "markdown",
   "metadata": {},
   "source": [
    "<div class=\"alert alert-block alert-success\">\n",
    "<b>Lösung Laser Cooldown</b>\n",
    "</div>"
   ]
  },
  {
   "cell_type": "code",
   "execution_count": null,
   "metadata": {},
   "outputs": [],
   "source": [
    "def fire_laser(self):\n",
    "    if (pygame.joystick.Joystick(0).get_button(0) or pygame.joystick.Joystick(0).get_button(1)) and self.can_fire:\n",
    "        print(\"Laser\")\n",
    "        self.can_fire = False\n",
    "        self.last_laser_time = pygame.time.get_ticks()"
   ]
  },
  {
   "cell_type": "code",
   "execution_count": null,
   "metadata": {},
   "outputs": [],
   "source": [
    "def laser_cooldown(self):\n",
    "    if not self.can_fire:\n",
    "        current_time = pygame.time.get_ticks()\n",
    "        if current_time - self.last_laser_time >= 500:                          # ggf. eine Variable fire_gap erstellen\n",
    "            self.can_fire = True"
   ]
  },
  {
   "cell_type": "markdown",
   "metadata": {},
   "source": [
    "***"
   ]
  },
  {
   "cell_type": "markdown",
   "metadata": {},
   "source": [
    "<img src=\"../../db_assets/masterroshi_training.gif\" style=\"height: 300px\"/>"
   ]
  }
 ],
 "metadata": {
  "kernelspec": {
   "display_name": "Python 3",
   "language": "python",
   "name": "python3"
  },
  "language_info": {
   "codemirror_mode": {
    "name": "ipython",
    "version": 3
   },
   "file_extension": ".py",
   "mimetype": "text/x-python",
   "name": "python",
   "nbconvert_exporter": "python",
   "pygments_lexer": "ipython3",
   "version": "3.12.0"
  }
 },
 "nbformat": 4,
 "nbformat_minor": 2
}
