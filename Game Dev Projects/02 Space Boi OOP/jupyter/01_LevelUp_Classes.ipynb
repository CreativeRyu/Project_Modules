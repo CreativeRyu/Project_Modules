{
 "cells": [
  {
   "cell_type": "markdown",
   "metadata": {},
   "source": [
    "# **<span style=\"color:deepskyblue\">Level Up with Classes</span>**\n",
    "\n",
    "<img src=\"../../db_assets/Trunks_going_SSJ.gif\" style=\"height: 230px\"/>\n",
    "\n",
    "+ Pygame wird in der Regel mit Klassen verwendet\n",
    "+ wir haben zuvor für die Laser und Asteroiden, Listen voller Rectangles erstellt\\\n",
    "  und jeweils ein Surface darauf gesetzt\n",
    "+ es wäre besser jeweils ein Objekt für den Laser und eines für den Asteroiden zu haben\n",
    "+ die Objekte beinhalten dann sowohl das Rectangle als auch das Surface"
   ]
  },
  {
   "cell_type": "markdown",
   "metadata": {},
   "source": [
    "***"
   ]
  },
  {
   "cell_type": "markdown",
   "metadata": {},
   "source": [
    "## **<span style=\"color:deepskyblue\">Setup</span>**"
   ]
  },
  {
   "cell_type": "markdown",
   "metadata": {},
   "source": [
    "## **<span style=\"color:#fcba04\">Code</span> Challenge**\n",
    "\n",
    "Erstelle eine main.py mit den folgenden Anforderungen:\n",
    "\n",
    "+ ein leeres Fenster\n",
    "+ einen Game Loop\n",
    "+ einen Event Loop\n",
    "+ eine Clock inklusive Delta Time"
   ]
  },
  {
   "cell_type": "markdown",
   "metadata": {},
   "source": [
    "<div class=\"alert alert-block alert-success\">\n",
    "<b>Lösung Recreate the Basics</b>\n",
    "</div>"
   ]
  },
  {
   "cell_type": "code",
   "execution_count": null,
   "metadata": {},
   "outputs": [],
   "source": [
    "import pygame\n",
    "import sys\n",
    "\n",
    "# # # # Pygame Init Part # # # # \n",
    "pygame.init()\n",
    "clock = pygame.time.Clock()\n",
    "WINDOW_WIDTH, WINDOW_HEIGHT = 1280, 720\n",
    "display_surface = pygame.display.set_mode((WINDOW_WIDTH, WINDOW_HEIGHT))\n",
    "pygame.display.set_caption(\"Space Boi\")\n",
    "\n",
    "# # # # # # # # # # # # # # # # # # # # # # # # # # # # # # # # # #\n",
    "\n",
    "# Get Gamepads and Joysticks here\n",
    "pygame.joystick.init()\n",
    "joysticks = [pygame.joystick.Joystick(i) for i in range(pygame.joystick.get_count())]\n",
    "\n",
    "# # # # # # # # # # # # # # # # # # # # # # # # # # # # # # # # # #\n",
    "\n",
    "# GAME LOOP\n",
    "while True:\n",
    "    # Event Loop\n",
    "    for event in pygame.event.get():\n",
    "        if event.type == pygame.QUIT:\n",
    "            pygame.quit() \n",
    "            sys.exit()\n",
    "    \n",
    "    # Delta Time\n",
    "    delta_time = clock.tick() / 1000                                            # 60 oder 120\n",
    "\n",
    "    # draw final frame\n",
    "    pygame.display.update()"
   ]
  },
  {
   "cell_type": "markdown",
   "metadata": {},
   "source": [
    "***"
   ]
  }
 ],
 "metadata": {
  "kernelspec": {
   "display_name": "Python 3",
   "language": "python",
   "name": "python3"
  },
  "language_info": {
   "codemirror_mode": {
    "name": "ipython",
    "version": 3
   },
   "file_extension": ".py",
   "mimetype": "text/x-python",
   "name": "python",
   "nbconvert_exporter": "python",
   "pygments_lexer": "ipython3",
   "version": "3.12.0"
  }
 },
 "nbformat": 4,
 "nbformat_minor": 2
}
