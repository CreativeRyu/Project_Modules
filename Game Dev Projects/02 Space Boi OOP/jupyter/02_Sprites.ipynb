{
 "cells": [
  {
   "cell_type": "markdown",
   "metadata": {},
   "source": [
    "# **<span style=\"color:deepskyblue\">Sprites</span>**\n",
    "\n",
    "<img src=\"../../db_assets/Goku Idle.gif\" style=\"height: 200px\"/>\n",
    "<img src=\"../../db_assets/Vegeta_Idle_Regular.gif\" style=\"height: 200px\"/>\n",
    "<img src=\"../../db_assets/Trunks_Idle_Regular.gif\" style=\"height: 200px\"/>\n",
    "<img src=\"../../db_assets/Ryu_Idle.gif\" style=\"height: 170px\"/>\n",
    "\n",
    "\n",
    "\n",
    "\n",
    "Wir werden die Sprite Klasse verwenden um alle visuellen Spielobjekte zu erstellen.\\\n",
    "Das schließt das Raumschiff, die Laser, die Asteroiden\\\n",
    "und alles weitere darüber hinaus mit ein.\n"
   ]
  },
  {
   "cell_type": "markdown",
   "metadata": {},
   "source": [
    "***"
   ]
  },
  {
   "cell_type": "markdown",
   "metadata": {},
   "source": [
    "## **<span style=\"color:deepskyblue\">Sprite Class</span>**"
   ]
  },
  {
   "cell_type": "markdown",
   "metadata": {},
   "source": [
    "\n",
    "Die Sprite Klasse muss ein Surface und ein Rectangle beinhalten\\\n",
    "ansonsten wird eine Fehlermeldung geworfen.\\\n",
    "Mittels dieser Klasse können Positionen, Input- und\\\n",
    "Update Mechaniken für Grafiken besser gesteuert werden."
   ]
  },
  {
   "cell_type": "code",
   "execution_count": null,
   "metadata": {},
   "outputs": [],
   "source": [
    "# in main.py einfach oben rein\n",
    "\n",
    "class Ship(pygame.sprite.Sprite):\n",
    "    def __init__(self):\n",
    "        # 1. Parent class muss initialisiert werden\n",
    "        super().__init__()\n",
    "        \n",
    "        # 2. Surface ist zwingend notwendig -> und muss als self.image bezeichnet werden\n",
    "        self.image = pygame.image.load(\"../project/images/player/SmartSpaceShip.png\").convert_alpha()\n",
    "        self.image = pygame.transform.scale2x(self.image)\n",
    "        \n",
    "        # 3. ein Rectangle ist ebenfalls zwingend notwendig\n",
    "        self.rect = self.image.get_rect(center = (WINDOW_WIDTH / 2, WINDOW_HEIGHT / 2))"
   ]
  },
  {
   "cell_type": "code",
   "execution_count": null,
   "metadata": {},
   "outputs": [],
   "source": [
    "# Vor dem Gameloop werden die Objekte initialisiert\n",
    "\n",
    "spaceship = Ship()"
   ]
  },
  {
   "cell_type": "markdown",
   "metadata": {},
   "source": [
    "Pfad muss hier dann wieder individuell angepasst werden\n",
    "\n",
    "<img src=\"../../memes/unzip.jpeg\" style=\"height: 300px\"/>"
   ]
  },
  {
   "cell_type": "markdown",
   "metadata": {},
   "source": [
    "***"
   ]
  },
  {
   "cell_type": "markdown",
   "metadata": {},
   "source": [
    "## **<span style=\"color:deepskyblue\">Sprite Groups</span>**\n",
    "\n",
    "Sprites müssen zu einer Gruppe gehören.\\\n",
    "Die Sprite Gruppe zeichnet dann die Sprites auf die Surfaces,\\\n",
    "in der Regel hier das Display Surface.\\\n",
    "Die Gruppe übernimmt dann das Updaten der Sprites.\\\n",
    "Eine richtig heftige Liste."
   ]
  },
  {
   "cell_type": "markdown",
   "metadata": {},
   "source": [
    "<img src=\"../../db_assets/kidgokuroll.jpg\" style=\"height: 90px\"/>"
   ]
  },
  {
   "cell_type": "markdown",
   "metadata": {},
   "source": [
    "***"
   ]
  },
  {
   "cell_type": "code",
   "execution_count": null,
   "metadata": {},
   "outputs": [],
   "source": [
    "# über dem Object Init die Sprite Groups erstellen\n",
    "\n",
    "# # # # Sprite Groups # # # #\n",
    "spaceship_group = pygame.sprite.GroupSingle()\n",
    "\n",
    "# # # # Object Init # # # # \n",
    "spaceship = Ship()\n",
    "spaceship_group.add(spaceship)"
   ]
  },
  {
   "cell_type": "code",
   "execution_count": null,
   "metadata": {},
   "outputs": [],
   "source": [
    "delta_time = clock.tick() / 1000                                                # Delta Time\n",
    "\n",
    "# Graphic Drawing\n",
    "spaceship_group.draw(display_surface)                                           # Vor dem Update des finalen Frames\n",
    "                                                                                # Die Group Drawings einfügen\n",
    "pygame.display.update()                                                         # draw final frame"
   ]
  },
  {
   "cell_type": "markdown",
   "metadata": {},
   "source": [
    "***"
   ]
  },
  {
   "cell_type": "markdown",
   "metadata": {},
   "source": [
    "### **<span style=\"color:deepskyblue\">Sprite Groups Level Up</span>**"
   ]
  },
  {
   "cell_type": "code",
   "execution_count": null,
   "metadata": {},
   "outputs": [],
   "source": [
    "# in main.py Ship Class anpassen\n",
    "\n",
    "class Ship(pygame.sprite.Sprite):\n",
    "    def __init__(self, group):\n",
    "        # 1. Parent class muss initialisiert werden\n",
    "        super().__init__(group)\n",
    "        \n",
    "        # 2. Surface ist zwingend notwendig -> und muss als self.image bezeichnet werden\n",
    "        self.image = pygame.image.load(\"../project/images/player/SmartSpaceShip.png\").convert_alpha()\n",
    "        self.image = pygame.transform.scale2x(self.image)\n",
    "        \n",
    "        # 3. ein Rectangle ist ebenfalls zwingend notwendig\n",
    "        self.rect = self.image.get_rect(center = (WINDOW_WIDTH / 2, WINDOW_HEIGHT / 2))"
   ]
  },
  {
   "cell_type": "code",
   "execution_count": null,
   "metadata": {},
   "outputs": [],
   "source": [
    "# # # # Sprite Groups # # # # \n",
    "spaceship_group = pygame.sprite.GroupSingle()\n",
    "\n",
    "# # # # Object Init # # # #                                                     # Die Gruppe wird jetzt einfach bei der\n",
    "spaceship = Ship(spaceship_group)                                               # Objektinitialisierung mit übergeben\n",
    "# spaceship_group.add(spaceship)                                                # die Zeile kann jetzt entfernt werden"
   ]
  },
  {
   "cell_type": "markdown",
   "metadata": {},
   "source": [
    "Background noch hinzufügen.\\\n",
    "Da dieser nicht animiert werden muss,\\\n",
    "kann dafür einfach ein Surface erstellt werden."
   ]
  },
  {
   "cell_type": "code",
   "execution_count": null,
   "metadata": {},
   "outputs": [],
   "source": [
    "# # # # Background Image Imports # # # # \n",
    "bg_surface = pygame.image.load(path+\"/images/background/background2.png\").convert()"
   ]
  },
  {
   "cell_type": "code",
   "execution_count": null,
   "metadata": {},
   "outputs": [],
   "source": [
    "# Delta Time\n",
    "delta_time = clock.tick() / 1000\n",
    "\n",
    "# Background\n",
    "display_surface.blit(bg_surface, (0, 0))                                        # Background auf dps blitten\n",
    "\n",
    "# Graphic Drawing\n",
    "spaceship_group.draw(display_surface)"
   ]
  },
  {
   "cell_type": "markdown",
   "metadata": {},
   "source": [
    "***"
   ]
  },
  {
   "cell_type": "markdown",
   "metadata": {},
   "source": [
    "## **<span style=\"color:#fcba04\">Code</span> Challenge**\n",
    "\n",
    "Erzeuge einen Laser Sprite.\\\n",
    "Erstelle dafür\n",
    "\n",
    "+ eine Laser Klasse mit einer Sprite Gruppe\n",
    "+ wenn das Laser Objekt initialisiert wird,\\\n",
    "  sollte die Position durch ein Argument übergeben werden können\n",
    "\n",
    "<img src=\"../../db_assets/PiccoloSpecialBeamCannon.gif\" style=\"height: 180px\"/>"
   ]
  },
  {
   "cell_type": "markdown",
   "metadata": {},
   "source": [
    "<div class=\"alert alert-block alert-success\">\n",
    "<b>Lösung Laser Sprite</b>\n",
    "</div>"
   ]
  },
  {
   "cell_type": "code",
   "execution_count": null,
   "metadata": {},
   "outputs": [],
   "source": [
    "\n",
    "class Laser(pygame.sprite.Sprite):\n",
    "    def __init__(self, group, position):\n",
    "        super().__init__(group)\n",
    "        self.image = pygame.image.load(path+\"/images/projectiles/single_blue2.png\").convert_alpha()\n",
    "        self.image = pygame.transform.scale2x(self.image)\n",
    "        self.rect = self.image.get_rect(midbottom = (position))\n",
    "        self.rect.centery += 45"
   ]
  },
  {
   "cell_type": "code",
   "execution_count": null,
   "metadata": {},
   "outputs": [],
   "source": [
    "# # # # Sprite Groups # # # # \n",
    "spaceship_group = pygame.sprite.GroupSingle()\n",
    "laser_group = pygame.sprite.Group()                                             # hier dann noch eine Gruppe für die Laser hinzufügen\n",
    "\n",
    "laser = Laser(laser_group, (200, 200))"
   ]
  },
  {
   "cell_type": "code",
   "execution_count": null,
   "metadata": {},
   "outputs": [],
   "source": [
    "# Unten im GameLoop dann mal testen ob der Laser funktioniert\n",
    "\n",
    "# Graphic Drawing\n",
    "spaceship_group.draw(display_surface)\n",
    "laser_group.draw(display_surface)"
   ]
  },
  {
   "cell_type": "markdown",
   "metadata": {},
   "source": [
    "***"
   ]
  },
  {
   "cell_type": "markdown",
   "metadata": {},
   "source": [
    "<img src=\"../../db_assets/GokuGoSSJ.gif\" style=\"height: 200px\"/>\n",
    "<img src=\"../../db_assets/Vegeta_Go_SSJ.gif\" style=\"height: 200px\"/>\n"
   ]
  }
 ],
 "metadata": {
  "kernelspec": {
   "display_name": "Python 3",
   "language": "python",
   "name": "python3"
  },
  "language_info": {
   "codemirror_mode": {
    "name": "ipython",
    "version": 3
   },
   "file_extension": ".py",
   "mimetype": "text/x-python",
   "name": "python",
   "nbconvert_exporter": "python",
   "pygments_lexer": "ipython3",
   "version": "3.12.0"
  }
 },
 "nbformat": 4,
 "nbformat_minor": 2
}
