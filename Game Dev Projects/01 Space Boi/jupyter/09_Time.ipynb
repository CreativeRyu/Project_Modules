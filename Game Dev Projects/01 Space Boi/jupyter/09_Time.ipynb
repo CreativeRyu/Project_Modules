{
 "cells": [
  {
   "attachments": {
    "iY6kWxX.gif": {
     "image/gif": "[encoded data removed]"
    }
   },
   "cell_type": "markdown",
   "metadata": {},
   "source": [
    "# **<span style=\"color:deepskyblue\">Time</span>**\n",
    "\n",
    "![iY6kWxX.gif](attachment:iY6kWxX.gif)\n"
   ]
  },
  {
   "cell_type": "markdown",
   "metadata": {},
   "source": [
    "Pygame kann sich die vergangene Zeit zurück geben lassen, seit wann das Spiel gestartet wurde.\\\n",
    "Bzw. seit wann *pygame.init()* aufgerufen wurde.\n",
    "\n",
    "Zusätzlich können eigene Timer definiert werden."
   ]
  },
  {
   "cell_type": "markdown",
   "metadata": {},
   "source": [
    "***"
   ]
  },
  {
   "cell_type": "code",
   "execution_count": null,
   "metadata": {},
   "outputs": [],
   "source": [
    "# to get Time since we started the game -> result in Milliseconds \n",
    "# damit könnte man start countdowns erstellen\n",
    "\n",
    "print(pygame.time.get_ticks())"
   ]
  },
  {
   "cell_type": "markdown",
   "metadata": {},
   "source": [
    "***"
   ]
  },
  {
   "cell_type": "markdown",
   "metadata": {},
   "source": [
    "## **<span style=\"color:deepskyblue\">Display Score based on Time</span>**"
   ]
  },
  {
   "cell_type": "code",
   "execution_count": null,
   "metadata": {},
   "outputs": [],
   "source": [
    "# Methoden Deklarationen\n",
    "\n",
    "def display_score():\n",
    "    score = f\"Score: {pygame.time.get_ticks() // 1000}\"                                             # 2. hier erst einmal ohne // 1000 zeigen\n",
    "    score_surface = font_score.render(score, True, \"White\")\n",
    "    score_rect = score_surface.get_rect(midtop = (120, WINDOW_HEIGHT - 60))\n",
    "    display.blit(score_surface, score_rect)\n",
    "\n",
    "# import text # # # # # # # # # # # # # # # # # # # \n",
    "font = pygame.font.Font(\"ressources/graphics/subatomic.ttf\", 50)\n",
    "font_score = pygame.font.Font(path+\"fonts/subatomic.ttf\", 30)                                       # 1. Font Score mit hinzufügen\n",
    "title_surface = font.render(\"Space Boi\", True, \"White\")\n",
    "title_rect = title_surface.get_rect(midtop = (640, 150))"
   ]
  },
  {
   "cell_type": "code",
   "execution_count": null,
   "metadata": {},
   "outputs": [],
   "source": [
    "# im GAME LOOP dann an dieser Stelle einfügen\n",
    "\n",
    "# 2. Updates\n",
    "display.fill((0, 0, 0))\n",
    "display.blit(background_surface, (0, 0))\n",
    "display.blit(ship_surface, ship_rectangle)\n",
    "for laser in laser_list:\n",
    "    display.blit(laser_surface, laser)\n",
    "\n",
    "display_score()                                                                                     #  3. right there"
   ]
  },
  {
   "cell_type": "markdown",
   "metadata": {},
   "source": [
    "***"
   ]
  },
  {
   "cell_type": "markdown",
   "metadata": {},
   "source": [
    "## **<span style=\"color:deepskyblue\">Shoot Timer | Cooldown </span>**\n",
    "\n",
    "Eine Art Countdown, der runter gezählt wird, nachdem ein Laser ausgelöst wurde.\\\n",
    "Erst nach Ablauf des Countdowns kann ein neuer Laser ausgelöst werden.\n",
    "\n",
    "Die Zeit muss dann hier zwei mal geprüft werden, weil Pygame dafür keine in Built Funktionen hat.\n",
    "\n",
    "\n",
    "#### **If duration < current_time - start_time : time is over**\n"
   ]
  },
  {
   "cell_type": "markdown",
   "metadata": {},
   "source": [
    "***"
   ]
  },
  {
   "cell_type": "markdown",
   "metadata": {},
   "source": [
    "Vorbereitung im Game Loop"
   ]
  },
  {
   "cell_type": "code",
   "execution_count": null,
   "metadata": {},
   "outputs": [],
   "source": [
    "# Laser Timer\n",
    "can_fire = True\n",
    "last_laser_time = None\n",
    "\n",
    "# Im GAME LOOP\n",
    "if event.type == pygame.JOYBUTTONDOWN and can_fire:                                                 # can_fire hier hinzufügen\n",
    "    if pygame.joystick.Joystick(0).get_button(0) or pygame.joystick.Joystick(0).get_button(1):\n",
    "        \n",
    "        # Laser Logic\n",
    "        laser_rectangle = laser_surface.get_rect(midbottom = (ship_rectangle.midtop))\n",
    "        laser_list.append(laser_rectangle)\n",
    "        \n",
    "        # Laser Timer\n",
    "        can_fire = False\n",
    "        last_laser_time = pygame.time.get_ticks()"
   ]
  },
  {
   "cell_type": "markdown",
   "metadata": {},
   "source": [
    "Erstellung einer Funktion für die Berechnung des Laser Cooldowns."
   ]
  },
  {
   "cell_type": "code",
   "execution_count": null,
   "metadata": {},
   "outputs": [],
   "source": [
    "def laser_cooldown(can_fire, duration= 500):\n",
    "    if not can_fire: \n",
    "        current_time = pygame.time.get_ticks()\n",
    "        if current_time - last_laser_time >= duration:\n",
    "            can_fire = True\n",
    "\n",
    "# Wird dann wegen Localer Variable can_fire nicht funktionieren, diese muss also returnt werden\n",
    "    return can_fire"
   ]
  },
  {
   "cell_type": "markdown",
   "metadata": {},
   "source": [
    "Update im Game Loop"
   ]
  },
  {
   "cell_type": "code",
   "execution_count": null,
   "metadata": {},
   "outputs": [],
   "source": [
    "# Analog Stick\n",
    "x_speed = round(pygame.joystick.Joystick(0).get_axis(0))\n",
    "y_speed = round(pygame.joystick.Joystick(0).get_axis(1))\n",
    "move(x_speed, y_speed)\n",
    "\n",
    "# Laser Updates\n",
    "laser_update(laser_list)\n",
    "laser_cooldown(can_fire, 400)                                                   # wird dann so wegen der localen Variable nicht funktionieren\n",
    "can_fire = laser_cooldown(can_fire, 400)                                        # muss daher angepasst werden\n",
    "# drawings\n",
    "display.fill((0, 0, 0))\n",
    "display.blit(background_surface, (0, 0))\n",
    "display.blit(ship_surface, ship_rectangle)\n",
    "for laser in laser_list:\n",
    "    display.blit(laser_surface, laser)\n",
    "\n",
    "display_score()"
   ]
  },
  {
   "cell_type": "markdown",
   "metadata": {},
   "source": [
    "***"
   ]
  },
  {
   "cell_type": "markdown",
   "metadata": {},
   "source": [
    "<img src=\"../../db_assets/Muten Roshi.gif\" style=\"height: 150px\"/>"
   ]
  }
 ],
 "metadata": {
  "kernelspec": {
   "display_name": "Python 3",
   "language": "python",
   "name": "python3"
  },
  "language_info": {
   "codemirror_mode": {
    "name": "ipython",
    "version": 3
   },
   "file_extension": ".py",
   "mimetype": "text/x-python",
   "name": "python",
   "nbconvert_exporter": "python",
   "pygments_lexer": "ipython3",
   "version": "3.12.0"
  }
 },
 "nbformat": 4,
 "nbformat_minor": 2
}
