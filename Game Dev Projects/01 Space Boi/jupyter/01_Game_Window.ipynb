{
 "cells": [
  {
   "cell_type": "markdown",
   "metadata": {},
   "source": [
    "<img src=\"../project/images/boxart/CoverArt.png\"/>"
   ]
  },
  {
   "cell_type": "markdown",
   "metadata": {},
   "source": [
    "Kleiner Asteroid Shooter in Pygame\n",
    "\n",
    "[Original Kurs](https://www.udemy.com/share/106Jb83@NNDaUZJczyq5hr1iOwQerPskfCZhfIA_1abRrydbguG86iNuH9Hx49uHdpNaOUuZhw==/)"
   ]
  },
  {
   "cell_type": "markdown",
   "metadata": {},
   "source": [
    "***"
   ]
  },
  {
   "cell_type": "markdown",
   "metadata": {},
   "source": [
    "## **<span style=\"color:deepskyblue\">Spiel Aufbau</span>**\n",
    "\n",
    "##### 1. Das Programm bekommt Spielerinput und prüft zur Laufzeit jede Art von Veränderung.\n",
    "\n",
    "##### 2. Der Input wird genutzt um den Spielcharakter zu bewegen und alle anderen Element upzudaten.\n",
    "\n",
    "##### 3. Alle individuellen Bilder werden miteinander verbunden. Player Image, Enemy Images, UI Graphiken.\n",
    "\n",
    "##### 4. Der finale Frame wird dem Spieler angezeigt.\n",
    "\n"
   ]
  },
  {
   "cell_type": "markdown",
   "metadata": {},
   "source": [
    "***"
   ]
  },
  {
   "cell_type": "markdown",
   "metadata": {},
   "source": [
    "## **<span style=\"color:deepskyblue\">Install Pygame</span>**"
   ]
  },
  {
   "cell_type": "markdown",
   "metadata": {},
   "source": [
    "<p style=\"background:black\">\n",
    "<code style=\"background:black;color:white\">C:\\Users\\YOUR_USERNAME> py -m pip install pygame\n",
    "</code>\n",
    "</p>"
   ]
  },
  {
   "cell_type": "markdown",
   "metadata": {},
   "source": [
    "## **<span style=\"color:deepskyblue\">Pygame</span>**\n",
    "\n",
    "+ Zeigt Grafiken an, und spielt Sounds sowie Musik ab\n",
    "+ nimmt Input von verschiedenen Perepheriegeräten, wie Maus, Tastatur und Controller entgegen\n",
    "+ hat eingebaute Funktionalitäten für Kollisionsprüfungen\n",
    "+ Bildmanipulation, Timers und Textanzeige"
   ]
  },
  {
   "cell_type": "markdown",
   "metadata": {},
   "source": [
    "***"
   ]
  },
  {
   "cell_type": "markdown",
   "metadata": {},
   "source": [
    "## **<span style=\"color:deepskyblue\">Pygame Usefull Extensions</span>**\n",
    "\n",
    "+ Tiled als Leveleditor\n",
    "+ Pymunk als Physicengine\n",
    "+ PIL für Bildmanipulation\n",
    "+ Sockets für Multiplayer\n",
    "+ Perlin-noise für zufällig generierte Welten"
   ]
  },
  {
   "cell_type": "markdown",
   "metadata": {},
   "source": [
    "***"
   ]
  },
  {
   "cell_type": "markdown",
   "metadata": {},
   "source": [
    "## **<span style=\"color:deepskyblue\">Game Window | Display Surface</span>**"
   ]
  },
  {
   "cell_type": "markdown",
   "metadata": {},
   "source": [
    "##### Das Bild, dass dem Spieler immer am Ende eines Game Loops angezeigt wird.\n",
    "##### Alle anderen Grafiken werden darauf platziert.\n",
    "##### Es kann immer nur ein einziges Display Surface geben.\n",
    "##### Wenn eine Grafik nicht darauf platziert wurde, dann wird diese auch nicht angezeigt."
   ]
  },
  {
   "cell_type": "code",
   "execution_count": null,
   "metadata": {},
   "outputs": [],
   "source": [
    "import pygame\n",
    "\n",
    "pygame.init() # Ohne die Initialisierung von Pygame funktioniert gar nichts # wie die Zündung im Auto\n",
    "display = pygame.display.set_mode((width, height)) # hier kommen Breite und Höhe unseres Game Windows rein"
   ]
  },
  {
   "cell_type": "code",
   "execution_count": null,
   "metadata": {},
   "outputs": [],
   "source": [
    "import pygame\n",
    "\n",
    "pygame.init()\n",
    "WINDOW_WIDTH, WINDOW_HEIGHT = 1280, 720\n",
    "display = pygame.display.set_mode((WINDOW_WIDTH, WINDOW_HEIGHT))\n",
    "# -> hier einmal ausführen, wir benötigen etwas, dass unser Game Window offen hält"
   ]
  },
  {
   "cell_type": "markdown",
   "metadata": {},
   "source": [
    "***"
   ]
  },
  {
   "cell_type": "markdown",
   "metadata": {},
   "source": [
    "## **<span style=\"color:deepskyblue\">Der Game Loop</span>**\n",
    "\n",
    "Die gesamte Logik des Spiels wird in einer while Schleife ablaufen.\n",
    "\n",
    "Darin wird jeglicher Input geprüft, alle Teile\\\n",
    "des spiels werden aktualisiert und Grafiken werden\\\n",
    "auf dem Display Surface platziert.\n",
    "\n",
    "Am Ende der Schleife wird das Display Surface auf dem Bildschirm angezeigt."
   ]
  },
  {
   "cell_type": "code",
   "execution_count": null,
   "metadata": {},
   "outputs": [],
   "source": [
    "import pygame\n",
    "\n",
    "pygame.init() \n",
    "WINDOW_WIDTH, WINDOW_HEIGHT = 1280, 720\n",
    "display = pygame.display.set_mode((WINDOW_WIDTH, WINDOW_HEIGHT))\n",
    "\n",
    "while True:\n",
    "    # 1. Player Inputs -> Inputs sind events \n",
    "    # 2. Updates\n",
    "    # 3. Show Frame to Player -> update display_surface"
   ]
  },
  {
   "cell_type": "code",
   "execution_count": null,
   "metadata": {},
   "outputs": [],
   "source": [
    "while True:\n",
    "    # 1. Player Inputs -> Inputs sind events \n",
    "    # Was sind Events?\n",
    "    # -> Mouse click, Button Press, Keys, Mausbewegung\n",
    "    pygame.event.get() # besorgt eine Liste aller laufenden Events\n",
    "    # 2. Updates\n",
    "    # 3. Show Frame to Player -> update display_surface"
   ]
  },
  {
   "cell_type": "code",
   "execution_count": null,
   "metadata": {},
   "outputs": [],
   "source": [
    "while True:\n",
    "    # 1. Player Inputs -> Inputs sind events \n",
    "    for event in pygame.event.get():\n",
    "        if event.type == pygame.QUIT:\n",
    "            pygame.quit() # Wenn auf das X oben Rechts geclicked wird, dann soll das Programm auch geschlossen werden\n",
    "    \n",
    "    # 2. Updates\n",
    "    # 3. Show Frame to Player -> update display_surface\n",
    "    pygame.display.update()\n",
    "    \n",
    "    # hier einmal den Code ausführen\n",
    "    # sollte zu einer Fehlermeldung führen"
   ]
  },
  {
   "cell_type": "code",
   "execution_count": null,
   "metadata": {},
   "outputs": [],
   "source": [
    "import pygame, sys\n",
    "\n",
    "pygame.init() \n",
    "WINDOW_WIDTH, WINDOW_HEIGHT = 1280, 720\n",
    "display = pygame.display.set_mode((WINDOW_WIDTH, WINDOW_HEIGHT))\n",
    "\n",
    "while True:\n",
    "    # 1. Player Inputs \n",
    "    for event in pygame.event.get():\n",
    "        if event.type == pygame.QUIT:\n",
    "            pygame.quit() \n",
    "            sys.exit()\n",
    "    \n",
    "    # 2. Updates\n",
    "    # 3. Show Frame to Player -> update display_surface\n",
    "    pygame.display.update()"
   ]
  },
  {
   "cell_type": "markdown",
   "metadata": {},
   "source": [
    "***"
   ]
  },
  {
   "cell_type": "markdown",
   "metadata": {},
   "source": [
    "## **<span style=\"color:#fcba04\">Code</span> Challenge**\n",
    "\n",
    "[Pygame Docs](https://www.pygame.org/docs/)\n",
    "\n",
    "Ändere den Titel des Displays zu einem Titel deiner Wahl,\\\n",
    "nutze dafür die Pygame Documentation."
   ]
  },
  {
   "cell_type": "markdown",
   "metadata": {},
   "source": [
    "<div class=\"alert alert-block alert-success\">\n",
    "<b>Lösung Änderung des Titels</b>\n",
    "</div>"
   ]
  },
  {
   "cell_type": "code",
   "execution_count": null,
   "metadata": {},
   "outputs": [],
   "source": [
    "import pygame, sys\n",
    "\n",
    "pygame.init() \n",
    "WINDOW_WIDTH, WINDOW_HEIGHT = 1280, 720\n",
    "display = pygame.display.set_mode((WINDOW_WIDTH, WINDOW_HEIGHT))\n",
    "pygame.display.set_caption(\"Space Boi\")\n",
    "\n",
    "while True:\n",
    "    # 1. Player Inputs \n",
    "    for event in pygame.event.get():\n",
    "        if event.type == pygame.QUIT:\n",
    "            pygame.quit() \n",
    "            sys.exit()\n",
    "    \n",
    "    # 2. Updates\n",
    "    # 3. Show Frame to Player -> update display_surface\n",
    "    pygame.display.update()"
   ]
  }
 ],
 "metadata": {
  "kernelspec": {
   "display_name": "Python 3",
   "language": "python",
   "name": "python3"
  },
  "language_info": {
   "codemirror_mode": {
    "name": "ipython",
    "version": 3
   },
   "file_extension": ".py",
   "mimetype": "text/x-python",
   "name": "python",
   "nbconvert_exporter": "python",
   "pygments_lexer": "ipython3",
   "version": "3.12.0"
  }
 },
 "nbformat": 4,
 "nbformat_minor": 2
}
