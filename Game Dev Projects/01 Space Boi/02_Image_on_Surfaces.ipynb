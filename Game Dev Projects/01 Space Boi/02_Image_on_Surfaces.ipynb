{
 "cells": [
  {
   "cell_type": "markdown",
   "metadata": {},
   "source": [
    "# **<span style=\"color:deepskyblue\">Display Images on a Surface</span>**\n",
    "\n",
    "Damit ein Bild angezeigt werden kann, wird ein Surface benötigt.\n",
    "\n",
    "Es gibt zwei Typen eines Surfaces:\n",
    "\n",
    "Das **<span style=\"color:skyblue\">Display Surface</span>** und ein **<span style=\"color:hotpink\">reguläres Surface</span>**"
   ]
  },
  {
   "cell_type": "markdown",
   "metadata": {},
   "source": [
    "<span style=\"color:skyblue\">\n",
    "\n",
    "+ das main canvas\n",
    "+ es gibt immer nur ein Display Surface\n",
    "+ wird immer angezeigt\n",
    "\n",
    "</span>\n",
    "\n",
    "<span style=\"color:hotpink\">\n",
    "\n",
    "+ kann grundsätzlich ein Bild sein\n",
    "+ es kann unbegrenzt viele Surfaces geben\n",
    "+ ein Surface kann nur angezeigt werden,\\\n",
    "  wenn es auf dem Display Surface positioniert ist\n",
    "\n",
    "</span>\n"
   ]
  },
  {
   "cell_type": "markdown",
   "metadata": {},
   "source": [
    "***"
   ]
  },
  {
   "attachments": {
    "image.png": {
     "image/png": "[encoded data removed]"
    }
   },
   "cell_type": "markdown",
   "metadata": {},
   "source": [
    "![image.png](attachment:image.png)"
   ]
  },
  {
   "cell_type": "markdown",
   "metadata": {},
   "source": [
    "\n",
    "\n",
    "#### **<span style=\"color:hotpink\">Surfaces</span>** können auf drei Arten erstellt werden\n",
    "\n",
    "+ ein Bild importieren  png, jpeg usw.\n",
    "\n",
    "+ direkt in Pygame ein Surface erstellen\n",
    "\n",
    "+ Text erstellen"
   ]
  },
  {
   "cell_type": "markdown",
   "metadata": {},
   "source": [
    "***"
   ]
  },
  {
   "cell_type": "markdown",
   "metadata": {},
   "source": [
    "## **<span style=\"color:deepskyblue\">Placing Surfaces</span>**"
   ]
  },
  {
   "cell_type": "code",
   "execution_count": null,
   "metadata": {},
   "outputs": [],
   "source": [
    "# create a surface\n",
    "test_surface = pygame.Surface((400,100))\n",
    "# surfaces need to get attached to the display surface\n",
    "# direkt über dem Game Loop\n",
    "while True:\n",
    "    pass"
   ]
  },
  {
   "cell_type": "markdown",
   "metadata": {},
   "source": [
    "**<span style=\"color:hotpink\">Surfaces</span>** werden auf dem **<span style=\"color:skyblue\">Display Surface</span>** mit der *blit()* Methode platziert.\\\n",
    "Block Image Transfer\n",
    "\n",
    "##### *<span style=\"color:skyblue\">display_surface</span>.blit(<span style=\"color:hotpink\">surface</span>, position)*\n",
    "\n",
    "Die Position (der Origin) bezieht sich auf den Punkt oben links an einem Surface"
   ]
  },
  {
   "cell_type": "code",
   "execution_count": null,
   "metadata": {},
   "outputs": [],
   "source": [
    "import pygame, sys\n",
    "\n",
    "pygame.init() \n",
    "WINDOW_WIDTH, WINDOW_HEIGHT = 1280, 720\n",
    "display = pygame.display.set_mode((WINDOW_WIDTH, WINDOW_HEIGHT))\n",
    "test_surface = pygame.Surface((400,100))\n",
    "\n",
    "while True:\n",
    "    # 1. Player Inputs \n",
    "    for event in pygame.event.get():\n",
    "        if event.type == pygame.QUIT:\n",
    "            pygame.quit() \n",
    "            sys.exit()\n",
    "    \n",
    "    # 2. Updates\n",
    "    display.blit(test_surface, 0,0)\n",
    "    # 3. Show Frame to Player -> update display_surface\n",
    "    pygame.display.update()"
   ]
  },
  {
   "cell_type": "markdown",
   "metadata": {},
   "source": [
    "***"
   ]
  },
  {
   "cell_type": "markdown",
   "metadata": {},
   "source": [
    "## **<span style=\"color:#fcba04\">Code</span> Challenge**\n",
    "\n",
    "Ändere die Farbe der Variable test_surface und die des Display Surface."
   ]
  },
  {
   "cell_type": "markdown",
   "metadata": {},
   "source": [
    "<div class=\"alert alert-block alert-success\">\n",
    "<b>Lösung Änderung der Farbe test_surface</b>\n",
    "</div>"
   ]
  },
  {
   "cell_type": "code",
   "execution_count": null,
   "metadata": {},
   "outputs": [],
   "source": [
    "while True:\n",
    "    # 1. Player Inputs \n",
    "    for event in pygame.event.get():\n",
    "        if event.type == pygame.QUIT:\n",
    "            pygame.quit()\n",
    "            sys.exit()\n",
    "    \n",
    "    # 2. Updates\n",
    "    display.fill(\"green\") # <<<<\n",
    "    # display.fill((255,0,0)) # <<<< Optional\n",
    "    test_surface.fill(\"orange\")\n",
    "    \n",
    "    display.blit(test_surface, 0,0)\n",
    "    # 3. Show Frame to Player -> update display_surface\n",
    "    pygame.display.update()"
   ]
  },
  {
   "cell_type": "markdown",
   "metadata": {},
   "source": [
    "***"
   ]
  },
  {
   "cell_type": "markdown",
   "metadata": {},
   "source": [
    "## **<span style=\"color:deepskyblue\">Import Images</span>**\n",
    "\n",
    "Bilder können mit der Methode *pygame.image.load(\"path\")*\\\n",
    "importiert werden.\n",
    "\n",
    "Für bessere Performance sollte das Bild anschließend konvertiert werden.\n"
   ]
  },
  {
   "cell_type": "code",
   "execution_count": null,
   "metadata": {},
   "outputs": [],
   "source": [
    "# importing images\n",
    "ship_surface = pygame.image.load(\"./images/player/SmartSpaceShip.png\").convert()\n",
    "\n",
    "\n",
    "# Display dann wieder mit schwarz füllen\n",
    "display.fill((0, 0, 0)) # <<<<"
   ]
  },
  {
   "attachments": {
    "image.png": {
     "image/png": "[encoded data removed]"
    }
   },
   "cell_type": "markdown",
   "metadata": {},
   "source": [
    "![image.png](attachment:image.png)"
   ]
  },
  {
   "cell_type": "code",
   "execution_count": null,
   "metadata": {},
   "outputs": [],
   "source": [
    "ship_surface = pygame.image.load(\"./images/player/SmartSpaceShip.png\").convert_alpha()"
   ]
  },
  {
   "attachments": {
    "image.png": {
     "image/png": "[encoded data removed]"
    }
   },
   "cell_type": "markdown",
   "metadata": {},
   "source": [
    "![image.png](attachment:image.png)"
   ]
  },
  {
   "cell_type": "markdown",
   "metadata": {},
   "source": [
    "***"
   ]
  },
  {
   "cell_type": "markdown",
   "metadata": {},
   "source": [
    "## **<span style=\"color:deepskyblue\">blit() Images</span>**\n",
    "\n",
    "Anschließend wieder mit der *blit()* Methode in das <span style=\"color:skyblue\">Display Surface</span> einsetzen."
   ]
  },
  {
   "cell_type": "code",
   "execution_count": null,
   "metadata": {},
   "outputs": [],
   "source": [
    "display.fill((0, 0, 0))\n",
    "display.blit(ship_surface, (300, 500))"
   ]
  },
  {
   "cell_type": "markdown",
   "metadata": {},
   "source": [
    "***"
   ]
  },
  {
   "cell_type": "markdown",
   "metadata": {},
   "source": [
    "## **<span style=\"color:#fcba04\">Code</span> Challenge**\n",
    "\n",
    "Importiere einen Hintergrund und setze diesen auf das <span style=\"color:skyblue\">Display Surface</span>."
   ]
  },
  {
   "cell_type": "markdown",
   "metadata": {},
   "source": [
    "<div class=\"alert alert-block alert-success\">\n",
    "<b>Lösung Hintergrund importieren</b>\n",
    "</div>"
   ]
  },
  {
   "cell_type": "code",
   "execution_count": null,
   "metadata": {},
   "outputs": [],
   "source": [
    "import pygame\n",
    "import sys\n",
    "path = \"Game Dev Projects/01 Space Shooter/\"\n",
    "\n",
    "pygame.init() \n",
    "WINDOW_WIDTH, WINDOW_HEIGHT = 1280, 720\n",
    "display = pygame.display.set_mode((WINDOW_WIDTH, WINDOW_HEIGHT))\n",
    "ship_surface = pygame.image.load(path+\"images/player/SmartSpaceShip.png\").convert_alpha()\n",
    "background_surface = pygame.image.load(path+\"./images/background/background1.png\").convert()\n",
    "\n",
    "# GAME LOOP\n",
    "while True:\n",
    "    # 1. Player Inputs \n",
    "    for event in pygame.event.get():\n",
    "        if event.type == pygame.QUIT:\n",
    "            pygame.quit() \n",
    "            sys.exit()\n",
    "    \n",
    "    # 2. Updates\n",
    "    display.fill((0, 0, 0))\n",
    "    display.blit(background_surface, (0, 0))\n",
    "    display.blit(ship_surface, (620, 300))\n",
    "    # 3. Show Frame to Player -> update display_surface\n",
    "    pygame.display.update()"
   ]
  },
  {
   "cell_type": "markdown",
   "metadata": {},
   "source": [
    "***"
   ]
  },
  {
   "cell_type": "markdown",
   "metadata": {},
   "source": [
    "## **<span style=\"color:deepskyblue\">blit() Order</span>**\n",
    "\n",
    "Die *blit()* Methoden werden nacheinander auf dem <span style=\"color:skyblue\">Display Surface</span> ausgeführt."
   ]
  },
  {
   "cell_type": "code",
   "execution_count": null,
   "metadata": {},
   "outputs": [],
   "source": [
    "display.fill((0, 0, 0))\n",
    "display.blit(background_surface, (0, 0))\n",
    "display.blit(ship_surface, (620, 300))"
   ]
  },
  {
   "cell_type": "markdown",
   "metadata": {},
   "source": [
    "***"
   ]
  },
  {
   "cell_type": "markdown",
   "metadata": {},
   "source": [
    "## **<span style=\"color:deepskyblue\">Import Texts</span>**\n",
    "\n",
    "Damit ein Text angezeigt werden kann, wird zunächst ein Font Object benötigt.\n",
    "\n",
    "Das Font Object rendert einen <span style=\"color:darkorange\">String</span> und gibt ein <span style=\"color:hotpink\">Surfaces</span> zurück."
   ]
  },
  {
   "cell_type": "code",
   "execution_count": null,
   "metadata": {},
   "outputs": [],
   "source": [
    "# import Text\n",
    "font = pygame.font.Font(\"./fonts/subatomic.ttf\", 50)\n",
    "text_surface = font.render(\"Space Boi\", True, \"White\")"
   ]
  },
  {
   "cell_type": "markdown",
   "metadata": {},
   "source": [
    "Für das Font Object wird der Font Style sowie die Textgröße übergeben.\n",
    "\n",
    "AntiAlias = True: sorgt für Kantenglättung bei den Texten.\\\n",
    "Wenn also Pixelart Texte verwendet werdem, dann sollte dieser Wert bestenfalls auf False stehen."
   ]
  }
 ],
 "metadata": {
  "kernelspec": {
   "display_name": "Python 3",
   "language": "python",
   "name": "python3"
  },
  "language_info": {
   "codemirror_mode": {
    "name": "ipython",
    "version": 3
   },
   "file_extension": ".py",
   "mimetype": "text/x-python",
   "name": "python",
   "nbconvert_exporter": "python",
   "pygments_lexer": "ipython3",
   "version": "3.12.0"
  }
 },
 "nbformat": 4,
 "nbformat_minor": 2
}
