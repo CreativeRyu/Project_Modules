{
 "cells": [
  {
   "cell_type": "markdown",
   "metadata": {},
   "source": [
    "# **<span style=\"color:deepskyblue\">Upgrades</span>**\n",
    "\n",
    "## **<span style=\"color:#fcba04\">Code</span> Challenge**\n",
    "\n",
    "+ Leichte Neigung des Raumschiffs zu der Seite zu welcher sich aktuell bewegt wird\n",
    "+ Optionale Powerups | Geschwindigkeit, Schnellere Laser, Doppellaser, Schilde"
   ]
  },
  {
   "cell_type": "markdown",
   "metadata": {},
   "source": [
    "***"
   ]
  },
  {
   "cell_type": "markdown",
   "metadata": {},
   "source": [
    "[Pixel Art Tutorials](https://www.are.na/pedro-medeiros-de-almeida/pixel-art-tutorials)"
   ]
  }
 ],
 "metadata": {
  "kernelspec": {
   "display_name": "Python 3",
   "language": "python",
   "name": "python3"
  },
  "language_info": {
   "codemirror_mode": {
    "name": "ipython",
    "version": 3
   },
   "file_extension": ".py",
   "mimetype": "text/x-python",
   "name": "python",
   "nbconvert_exporter": "python",
   "pygments_lexer": "ipython3",
   "version": "3.12.0"
  }
 },
 "nbformat": 4,
 "nbformat_minor": 2
}
