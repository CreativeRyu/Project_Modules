{
 "cells": [
  {
   "cell_type": "markdown",
   "metadata": {},
   "source": [
    "# **<span style=\"color:deepskyblue\">Sounds</span>**\n",
    "\n",
    "<img src=\"../db_assets/goku_yelling.gif\" style=\"height: 250px\"/>\n",
    "\n",
    "Soundfile importieren und anschließend mit der *play()* Methode abspielen.\\\n",
    "Zusätzlich kann noch eingestellt werden, ob der Sound wiederholt werden soll."
   ]
  },
  {
   "cell_type": "markdown",
   "metadata": {},
   "source": [
    "***"
   ]
  },
  {
   "cell_type": "code",
   "execution_count": null,
   "metadata": {},
   "outputs": [],
   "source": [
    "# Vor Start des GameLoops werden die Sounds importiert\n",
    "\n",
    "laser_sfx = pygame.mixer.Sound(\"./project/sounds/laser.ogg\")\n",
    "\n",
    "\n",
    "laser_sfx = pygame.mixer.Sound(path+\"sounds/laser.ogg\")\n",
    "explosion_sfx = pygame.mixer.Sound(path+\"sounds/explosion.wav\")\n",
    "bg_music = pygame.mixer.Sound(path+\"music/space-ranger-moire-main.mp3\")\n",
    "bg_music.play(loops= -1)        # Int definiert wie oft der song wiederholt wird, -1 = infinite"
   ]
  },
  {
   "cell_type": "markdown",
   "metadata": {},
   "source": [
    "im Gameloop dann an der Stelle abspielen wenn ein Laser ausgelöst wird"
   ]
  },
  {
   "cell_type": "code",
   "execution_count": null,
   "metadata": {},
   "outputs": [],
   "source": [
    "if event.type == pygame.JOYBUTTONDOWN and can_fire:\n",
    "    if pygame.joystick.Joystick(0).get_button(0) or pygame.joystick.Joystick(0).get_button(1):\n",
    "                \n",
    "        # Laser Logic\n",
    "        laser_rectangle = laser_surface.get_rect(midbottom = (ship_rectangle.midtop))\n",
    "        laser_rectangle.centery += 30\n",
    "        laser_list.append(laser_rectangle)\n",
    "        \n",
    "        # Play Laser Sound\n",
    "        laser_sfx.play()                                                                            # Laser Sound hier mit play() abspielen\n",
    "        \n",
    "        # Laser Timer\n",
    "        can_fire = False\n",
    "        last_laser_time = pygame.time.get_ticks()"
   ]
  },
  {
   "cell_type": "markdown",
   "metadata": {},
   "source": [
    "***"
   ]
  },
  {
   "cell_type": "markdown",
   "metadata": {},
   "source": [
    "## **<span style=\"color:deepskyblue\">Lautstärke Volume</span>**\n",
    "\n",
    "Die Lautstärke der SFX kann mit laser_sfx.set_volume(0.5) verändert werden."
   ]
  },
  {
   "cell_type": "markdown",
   "metadata": {},
   "source": [
    "***"
   ]
  },
  {
   "cell_type": "code",
   "execution_count": null,
   "metadata": {},
   "outputs": [],
   "source": [
    "# Import Sounds\n",
    "laser_sfx = pygame.mixer.Sound(path+\"sounds/laser.ogg\")\n",
    "laser_sfx.set_volume(0.4)\n",
    "explosion_sfx = pygame.mixer.Sound(path+\"sounds/explosion.wav\")\n",
    "explosion_sfx.set_volume(0.4)\n",
    "bg_music = pygame.mixer.Sound(path+\"music/space-ranger-moire-main.mp3\")\n",
    "bg_music.set_volume(0.3)\n",
    "bg_music.play(loops= -1)"
   ]
  },
  {
   "cell_type": "markdown",
   "metadata": {},
   "source": [
    "***"
   ]
  },
  {
   "cell_type": "markdown",
   "metadata": {},
   "source": [
    "## **<span style=\"color:deepskyblue\">FERTIG</span>**\n",
    "\n",
    "<img src=\"../db_assets/GinyuForce.gif\" style=\"height: 220px\"/>"
   ]
  }
 ],
 "metadata": {
  "kernelspec": {
   "display_name": "Python 3",
   "language": "python",
   "name": "python3"
  },
  "language_info": {
   "codemirror_mode": {
    "name": "ipython",
    "version": 3
   },
   "file_extension": ".py",
   "mimetype": "text/x-python",
   "name": "python",
   "nbconvert_exporter": "python",
   "pygments_lexer": "ipython3",
   "version": "3.12.0"
  }
 },
 "nbformat": 4,
 "nbformat_minor": 2
}
