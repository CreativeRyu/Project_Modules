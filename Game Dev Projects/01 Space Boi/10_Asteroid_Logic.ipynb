{
 "cells": [
  {
   "cell_type": "markdown",
   "metadata": {},
   "source": [
    "# **<span style=\"color:deepskyblue\">Asteroid Logic</span>**\n",
    "\n",
    "<img src=\"../db_assets/vegeta_meteors.gif\" style=\"height: 300px\"/>\n",
    "\n",
    "+ ähnliches Verhalten wie der Laser\n",
    "+ bewegen sich stattdessen aber nach Unten\\\n",
    "  und werden zufällig über dem oberen Bildschirmrand gespawned"
   ]
  },
  {
   "cell_type": "markdown",
   "metadata": {},
   "source": [
    "***"
   ]
  },
  {
   "cell_type": "code",
   "execution_count": null,
   "metadata": {},
   "outputs": [],
   "source": [
    "asteroid_timer = pygame.event.custom_type()                                                         # custom Event erstellen \n",
    "pygame.time.set_timer(asteroid_timer, 1000)                                                         # und als Timer verwenden\n",
    "\n",
    "# GAME LOOP                                                                                         # dadurch kann dann immer nach Ablauf des\n",
    "while True:                                                                                         # Timers eine Funktionalität daran\n",
    "    pass                                                                                            # gebunden werden"
   ]
  },
  {
   "cell_type": "code",
   "execution_count": null,
   "metadata": {},
   "outputs": [],
   "source": [
    "# GAME LOOP\n",
    "while True:\n",
    "    # 1. Player Inputs \n",
    "    for event in pygame.event.get():\n",
    "        if event.type == pygame.QUIT:\n",
    "            pygame.quit() \n",
    "            sys.exit()\n",
    "    \n",
    "    if event.type == pygame.JOYBUTTONDOWN and can_fire:\n",
    "        if pygame.joystick.Joystick(0).get_button(0) or pygame.joystick.Joystick(0).get_button(1):\n",
    "            \n",
    "            # Laser Logic\n",
    "            laser_rectangle = laser_surface.get_rect(midbottom = (ship_rectangle.midtop))\n",
    "            laser_rectangle.centery += 30\n",
    "            laser_list.append(laser_rectangle)\n",
    "            \n",
    "            # Laser Timer\n",
    "            can_fire = False\n",
    "            last_laser_time = pygame.time.get_ticks()\n",
    "    \n",
    "    if event.type == asteroid_timer:                                                                # nach Ablauf der Zeit kommt hier dann\n",
    "        print(\"Asteroid\")                                                                           # immer der custom Timer an"
   ]
  },
  {
   "cell_type": "markdown",
   "metadata": {},
   "source": [
    "***"
   ]
  },
  {
   "cell_type": "markdown",
   "metadata": {},
   "source": [
    "## **<span style=\"color:#fcba04\">Code</span> Challenge**\n",
    "\n",
    "Ab hier brauchen wir ein ähnliches Verhalten wie bei dem Laser.\n",
    "+ importiere ein Asteroiden Surface\n",
    "+ erstelle ein Asteroiden Rectangle indem der sich wiederholende Custom Timer verwendet wird\n",
    "+ die Asteroiden sollen sich dann nach zum unteren Bildschirmrand und darüber hinaus bewegen\n",
    "+ alle Asteroiden in der Asteroiden Liste müssen upgedatet werden\n",
    "+ zeichne dann alle Asteroiden auf dem Display"
   ]
  },
  {
   "cell_type": "markdown",
   "metadata": {},
   "source": [
    "<div class=\"alert alert-block alert-success\">\n",
    "<b>Lösung Let Spawn Asteroids</b>\n",
    "</div>"
   ]
  },
  {
   "cell_type": "code",
   "execution_count": null,
   "metadata": {},
   "outputs": [],
   "source": [
    "for laser in laser_list:\n",
    "    display.blit(laser_surface, laser)"
   ]
  },
  {
   "cell_type": "markdown",
   "metadata": {},
   "source": [
    "Anschließend soll ein For Loop erstellt werden der alle Laser im Spiel zum oberen Bildschirmrand bewegt.\n"
   ]
  },
  {
   "cell_type": "markdown",
   "metadata": {},
   "source": [
    "<div class=\"alert alert-block alert-success\">\n",
    "<b>Lösung Laser Movement For Loop</b>\n",
    "</div>"
   ]
  },
  {
   "cell_type": "code",
   "execution_count": null,
   "metadata": {},
   "outputs": [],
   "source": [
    "import pygame\n",
    "import math\n",
    "import sys\n",
    "path = \"Game Dev Projects/01 Space Boi/\"\n",
    "\n",
    "# Move Methode für die Spielfigur\n",
    "def move(x_speed, y_speed):\n",
    "    magnitude = math.sqrt(x_speed ** 2 + y_speed ** 2)\n",
    "    \n",
    "    if magnitude != 0:\n",
    "        normalized_x = x_speed / magnitude\n",
    "        normalized_y = y_speed / magnitude\n",
    "    else:\n",
    "        normalized_x, normalized_y = 0, 0\n",
    "    \n",
    "    ship_rectangle.move_ip(normalized_x * move_speed, normalized_y * move_speed)\n",
    "\n",
    "# Bewegung der Laser zum oberen Bildschirmrand\n",
    "def laser_update(laser_list, speed=300):\n",
    "    for laser in laser_list:\n",
    "        laser.y -= speed * delta_time\n",
    "\n",
    "# # # # # # # # # # # # # # # # # # # # # # # # # # # # # # # # # #\n",
    "\n",
    "# laser_rectangle.y -= round(200 * delta_time)                                                      # hier jetzt die neue Funktio einfügen\n",
    "laser_update(laser_list)"
   ]
  },
  {
   "cell_type": "markdown",
   "metadata": {},
   "source": [
    "***"
   ]
  },
  {
   "cell_type": "markdown",
   "metadata": {},
   "source": [
    "## **<span style=\"color:deepskyblue\">Clean the Lasers</span>**\n",
    "\n",
    "Ganz am Ende jetzt eine *len()* Funktion und die Laserrectangles anschauen.\n"
   ]
  },
  {
   "cell_type": "code",
   "execution_count": null,
   "metadata": {},
   "outputs": [],
   "source": [
    "print(len(laser_list))"
   ]
  },
  {
   "cell_type": "code",
   "execution_count": null,
   "metadata": {},
   "outputs": [],
   "source": [
    "# Bewegung der Laser zum oberen Bildschirmrand\n",
    "def laser_update(laser_list, speed=300):\n",
    "    for laser in laser_list:\n",
    "        laser.y -= speed * delta_time\n",
    "        if laser.bottom < 0:\n",
    "            laser_list.remove(laser)"
   ]
  },
  {
   "cell_type": "markdown",
   "metadata": {},
   "source": [
    "***"
   ]
  }
 ],
 "metadata": {
  "kernelspec": {
   "display_name": "Python 3",
   "language": "python",
   "name": "python3"
  },
  "language_info": {
   "codemirror_mode": {
    "name": "ipython",
    "version": 3
   },
   "file_extension": ".py",
   "mimetype": "text/x-python",
   "name": "python",
   "nbconvert_exporter": "python",
   "pygments_lexer": "ipython3",
   "version": "3.12.0"
  }
 },
 "nbformat": 4,
 "nbformat_minor": 2
}
