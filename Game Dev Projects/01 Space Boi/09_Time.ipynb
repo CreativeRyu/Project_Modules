{
 "cells": [
  {
   "attachments": {
    "iY6kWxX.gif": {
     "image/gif": "[encoded data removed]"
    }
   },
   "cell_type": "markdown",
   "metadata": {},
   "source": [
    "# **<span style=\"color:deepskyblue\">Time</span>**\n",
    "\n",
    "![iY6kWxX.gif](attachment:iY6kWxX.gif)\n"
   ]
  },
  {
   "cell_type": "markdown",
   "metadata": {},
   "source": [
    "Pygame kann sich die vergangene Zeit zurück geben lassen, seit wann das Spiel gestartet wurde.\\\n",
    "Bzw. seit wann *pygame.init()* aufgerufen wurde.\n",
    "\n",
    "Zusätzlich können eigene Timer definiert werden."
   ]
  },
  {
   "cell_type": "markdown",
   "metadata": {},
   "source": [
    "***"
   ]
  },
  {
   "cell_type": "markdown",
   "metadata": {},
   "source": [
    "## **<span style=\"color:deepskyblue\">Multiple Lasers</span>**"
   ]
  },
  {
   "cell_type": "markdown",
   "metadata": {},
   "source": [
    "+ statt dem Rectangle müssen wir eine Liste mit Laserrectangles erstellen"
   ]
  },
  {
   "cell_type": "code",
   "execution_count": null,
   "metadata": {},
   "outputs": [],
   "source": [
    "laser_surface = pygame.image.load(path+\"images/projectiles/single_red1.png\").convert_alpha()\n",
    "laser_list = []                                                                 # Laser Liste hier   \n",
    "#laser_rectangle = laser_surface.get_rect(midbottom = (ship_rectangle.midtop))  # das hier muss dann beim Button Press ausgeführt werden"
   ]
  },
  {
   "cell_type": "code",
   "execution_count": null,
   "metadata": {},
   "outputs": [],
   "source": [
    "# GAME LOOP\n",
    "while True:\n",
    "    # 1. Player Inputs \n",
    "    for event in pygame.event.get():\n",
    "        if event.type == pygame.QUIT:\n",
    "            pygame.quit() \n",
    "            sys.exit()\n",
    "    \n",
    "    if event.type == pygame.JOYBUTTONDOWN:\n",
    "        if pygame.joystick.Joystick(0).get_button(0) or pygame.joystick.Joystick(0).get_button(1):\n",
    "            laser_rectangle = laser_surface.get_rect(midbottom = (ship_rectangle.midtop))           # hier das Rectangle erstellen\n",
    "            laser_list.append(laser_rectangle)                                                      # hier der Liste hinzufügen\n",
    "            \n",
    "    #Limiting Frame Rate\n",
    "    delta_time = clock.tick(60) / 1000\n",
    "    \n",
    "    # Analog Stick\n",
    "    x_speed = round(pygame.joystick.Joystick(0).get_axis(0))\n",
    "    y_speed = round(pygame.joystick.Joystick(0).get_axis(1))\n",
    "    move(x_speed, y_speed)\n",
    "    \n",
    "    # laser_rectangle.y -= round(200 * delta_time)                                                  # Funktioniert nicht mehr\n",
    "    \n",
    "    # 2. Updates\n",
    "    display.fill((0, 0, 0))\n",
    "    display.blit(background_surface, (0, 0))\n",
    "    display.blit(ship_surface, ship_rectangle)\n",
    "    # display.blit(laser_surface, laser_rectangle)                                                  # kein Rectangle mehr also Fehlermeldung\n",
    "    display.blit(title_surface, title_rectangle)                                                    # hier muss jetzt ein for loop rein\n",
    "    \n",
    "    # Draw custom Rectangles here\n",
    "    pygame.draw.rect(display, \"white\", title_rectangle.inflate(50, 40), width=7, border_radius=5)\n",
    "    \n",
    "    # draw final frame\n",
    "    pygame.display.update()"
   ]
  },
  {
   "cell_type": "markdown",
   "metadata": {},
   "source": [
    "***"
   ]
  },
  {
   "cell_type": "markdown",
   "metadata": {},
   "source": [
    "## **<span style=\"color:#fcba04\">Code</span> Challenge**\n",
    "\n",
    "Erstelle einen For Loop, der alle Laser Surfaces an der position der entsprechenden Laser Rectangles zeichnet."
   ]
  },
  {
   "cell_type": "markdown",
   "metadata": {},
   "source": [
    "<div class=\"alert alert-block alert-success\">\n",
    "<b>Lösung Laser Display For Loop</b>\n",
    "</div>"
   ]
  },
  {
   "cell_type": "code",
   "execution_count": null,
   "metadata": {},
   "outputs": [],
   "source": [
    "for laser in laser_list:\n",
    "    display.blit(laser_surface, laser)"
   ]
  },
  {
   "cell_type": "markdown",
   "metadata": {},
   "source": [
    "Anschließend soll ein For Loop erstellt werden der alle Laser im Spiel zum oberen Bildschirmrand bewegt.\n"
   ]
  },
  {
   "cell_type": "markdown",
   "metadata": {},
   "source": [
    "<div class=\"alert alert-block alert-success\">\n",
    "<b>Lösung Laser Movement For Loop</b>\n",
    "</div>"
   ]
  },
  {
   "cell_type": "code",
   "execution_count": null,
   "metadata": {},
   "outputs": [],
   "source": [
    "import pygame\n",
    "import math\n",
    "import sys\n",
    "path = \"Game Dev Projects/01 Space Boi/\"\n",
    "\n",
    "# Move Methode für die Spielfigur\n",
    "def move(x_speed, y_speed):\n",
    "    magnitude = math.sqrt(x_speed ** 2 + y_speed ** 2)\n",
    "    \n",
    "    if magnitude != 0:\n",
    "        normalized_x = x_speed / magnitude\n",
    "        normalized_y = y_speed / magnitude\n",
    "    else:\n",
    "        normalized_x, normalized_y = 0, 0\n",
    "    \n",
    "    ship_rectangle.move_ip(normalized_x * move_speed, normalized_y * move_speed)\n",
    "\n",
    "# Bewegung der Laser zum oberen Bildschirmrand\n",
    "def laser_update(laser_list, speed=300):\n",
    "    for laser in laser_list:\n",
    "        laser.y -= speed * delta_time\n",
    "\n",
    "# # # # # # # # # # # # # # # # # # # # # # # # # # # # # # # # # #\n",
    "\n",
    "# laser_rectangle.y -= round(200 * delta_time)                                                      # hier jetzt die neue Funktio einfügen\n",
    "laser_update(laser_list)"
   ]
  },
  {
   "cell_type": "markdown",
   "metadata": {},
   "source": [
    "***"
   ]
  },
  {
   "cell_type": "markdown",
   "metadata": {},
   "source": [
    "## **<span style=\"color:deepskyblue\">Clean the Lasers</span>**\n",
    "\n",
    "Ganz am Ende jetzt eine *len()* Funktion und die Laserrectangles anschauen.\n"
   ]
  },
  {
   "cell_type": "code",
   "execution_count": null,
   "metadata": {},
   "outputs": [],
   "source": [
    "print(len(laser_list))"
   ]
  },
  {
   "cell_type": "code",
   "execution_count": null,
   "metadata": {},
   "outputs": [],
   "source": [
    "# Bewegung der Laser zum oberen Bildschirmrand\n",
    "def laser_update(laser_list, speed=300):\n",
    "    for laser in laser_list:\n",
    "        laser.y -= speed * delta_time\n",
    "        if laser.bottom < 0:\n",
    "            laser_list.remove(laser)"
   ]
  },
  {
   "cell_type": "markdown",
   "metadata": {},
   "source": [
    "***"
   ]
  }
 ],
 "metadata": {
  "kernelspec": {
   "display_name": "Python 3",
   "language": "python",
   "name": "python3"
  },
  "language_info": {
   "codemirror_mode": {
    "name": "ipython",
    "version": 3
   },
   "file_extension": ".py",
   "mimetype": "text/x-python",
   "name": "python",
   "nbconvert_exporter": "python",
   "pygments_lexer": "ipython3",
   "version": "3.12.0"
  }
 },
 "nbformat": 4,
 "nbformat_minor": 2
}
