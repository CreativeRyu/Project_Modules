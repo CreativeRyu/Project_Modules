{
 "cells": [
  {
   "cell_type": "markdown",
   "metadata": {},
   "source": [
    "# **<span style=\"color:deepskyblue\">Asteroid Logic and Vectors</span>**\n",
    "\n",
    "<img src=\"../db_assets/vegeta_meteors.gif\" style=\"height: 300px\"/>\n",
    "\n",
    "+ ähnliches Verhalten wie der Laser\n",
    "+ bewegen sich stattdessen aber nach Unten\\\n",
    "  und werden zufällig über dem oberen Bildschirmrand gespawned"
   ]
  },
  {
   "cell_type": "markdown",
   "metadata": {},
   "source": [
    "***"
   ]
  },
  {
   "cell_type": "code",
   "execution_count": null,
   "metadata": {},
   "outputs": [],
   "source": [
    "asteroid_timer = pygame.event.custom_type()                                                         # custom Event erstellen \n",
    "pygame.time.set_timer(asteroid_timer, 1000)                                                         # und als Timer verwenden\n",
    "\n",
    "# GAME LOOP                                                                                         # dadurch kann dann immer nach Ablauf des\n",
    "while True:                                                                                         # Timers eine Funktionalität daran\n",
    "    pass                                                                                            # gebunden werden"
   ]
  },
  {
   "cell_type": "code",
   "execution_count": null,
   "metadata": {},
   "outputs": [],
   "source": [
    "# GAME LOOP\n",
    "while True:\n",
    "    # 1. Player Inputs \n",
    "    for event in pygame.event.get():\n",
    "        if event.type == pygame.QUIT:\n",
    "            pygame.quit() \n",
    "            sys.exit()\n",
    "    \n",
    "    if event.type == pygame.JOYBUTTONDOWN and can_fire:\n",
    "        if pygame.joystick.Joystick(0).get_button(0) or pygame.joystick.Joystick(0).get_button(1):\n",
    "            \n",
    "            # Laser Logic\n",
    "            laser_rectangle = laser_surface.get_rect(midbottom = (ship_rectangle.midtop))\n",
    "            laser_rectangle.centery += 30\n",
    "            laser_list.append(laser_rectangle)\n",
    "            \n",
    "            # Laser Timer\n",
    "            can_fire = False\n",
    "            last_laser_time = pygame.time.get_ticks()\n",
    "    \n",
    "    if event.type == asteroid_timer:                                                                # nach Ablauf der Zeit kommt hier dann\n",
    "        print(\"Asteroid\")                                                                           # immer der custom Timer an"
   ]
  },
  {
   "cell_type": "markdown",
   "metadata": {},
   "source": [
    "***"
   ]
  },
  {
   "cell_type": "markdown",
   "metadata": {},
   "source": [
    "## **<span style=\"color:#fcba04\">Code</span> Challenge**\n",
    "\n",
    "Ab hier brauchen wir ein ähnliches Verhalten wie bei dem Laser.\n",
    "+ importiere ein Asteroiden Surface\n",
    "+ erstelle ein Asteroiden Rectangle indem der sich wiederholende Custom Timer verwendet wird\n",
    "+ die Asteroiden sollen sich dann nach zum unteren Bildschirmrand und darüber hinaus bewegen\n",
    "+ alle Asteroiden in der Asteroiden Liste müssen upgedatet werden\n",
    "+ zeichne dann alle Asteroiden auf dem Display"
   ]
  },
  {
   "cell_type": "markdown",
   "metadata": {},
   "source": [
    "<div class=\"alert alert-block alert-success\">\n",
    "<b>Lösung Let Spawn Asteroids</b>\n",
    "</div>"
   ]
  },
  {
   "cell_type": "markdown",
   "metadata": {},
   "source": [
    "Image Import"
   ]
  },
  {
   "cell_type": "code",
   "execution_count": null,
   "metadata": {},
   "outputs": [],
   "source": [
    "# # # # Import Images # # # # \n",
    "ship_surface = pygame.image.load(path+\"images/player/SmartSpaceShip.png\").convert_alpha()\n",
    "ship_surface = pygame.transform.scale2x(ship_surface)\n",
    "ship_rectangle = ship_surface.get_rect(center = (WINDOW_WIDTH / 2, WINDOW_HEIGHT / 2))\n",
    "laser_surface = pygame.image.load(path+\"images/projectiles/single_red1.png\").convert_alpha()\n",
    "laser_surface = pygame.transform.scale2x(laser_surface)\n",
    "laser_list = []\n",
    "asteroid_surface = pygame.image.load(path+\"images/enemy/Asteroid L lv 1.png\").convert_alpha()       # hier das Surface \n",
    "asteroid_list = []                                                                                  # und die Liste erstellen"
   ]
  },
  {
   "cell_type": "markdown",
   "metadata": {},
   "source": [
    "mittels Timer die Liste befüllen"
   ]
  },
  {
   "cell_type": "code",
   "execution_count": null,
   "metadata": {},
   "outputs": [],
   "source": [
    "# im Custom Timer\n",
    "\n",
    "if event.type == asteroid_timer: \n",
    "    asteroid_rectangle = asteroid_surface.get_rect(center = (640, -100))\n",
    "    asteroid_list.append(asteroid_rectangle)"
   ]
  },
  {
   "cell_type": "markdown",
   "metadata": {},
   "source": [
    "Methode für das Verhalten der Asteroiden erstellen"
   ]
  },
  {
   "cell_type": "code",
   "execution_count": null,
   "metadata": {},
   "outputs": [],
   "source": [
    "# Methode für das Verhalten der Asteroiden erstellen\n",
    "def asteroid_behaviour(asteroid_list, speed=300):\n",
    "    for asteroid in asteroid_list:\n",
    "        asteroid.y += speed * delta_time\n",
    "        if asteroid.top > WINDOW_HEIGHT:\n",
    "            asteroid_list.remove(asteroid)"
   ]
  },
  {
   "cell_type": "markdown",
   "metadata": {},
   "source": [
    "Asteroiden auf dem Display zeichnen"
   ]
  },
  {
   "cell_type": "code",
   "execution_count": null,
   "metadata": {},
   "outputs": [],
   "source": [
    "# drawings\n",
    "display.fill((0, 0, 0))\n",
    "display.blit(background_surface, (0, 0))\n",
    "display.blit(ship_surface, ship_rectangle)\n",
    "for laser in laser_list:\n",
    "    display.blit(laser_surface, laser)\n",
    "\n",
    "for asteroid in asteroid_list:                                                  # gleiche Schleife wie bei der Laser liste\n",
    "    display.blit(asteroid_surface, asteroid)                                    # bomben Beispiele für \"Wozu brauch man das überhaupt?\""
   ]
  },
  {
   "cell_type": "markdown",
   "metadata": {},
   "source": [
    "***"
   ]
  },
  {
   "cell_type": "markdown",
   "metadata": {},
   "source": [
    "## **<span style=\"color:deepskyblue\">Zufällige Startposition für Asteroiden</span>**\n",
    "\n",
    "Mit dem Random Modul eine zufällige Position am oberen Bildschirmrand definieren."
   ]
  },
  {
   "cell_type": "code",
   "execution_count": null,
   "metadata": {},
   "outputs": [],
   "source": [
    "from random import randint"
   ]
  },
  {
   "cell_type": "code",
   "execution_count": null,
   "metadata": {},
   "outputs": [],
   "source": [
    "# im Custom Timer\n",
    "x_position = randint(-100, WINDOW_WIDTH + 100)                                                      # hier eventuell kurz mal einzeichnen\n",
    "y_position = randint(-100, -50)\n",
    "if event.type == asteroid_timer: \n",
    "    asteroid_rectangle = asteroid_surface.get_rect(center = (x_position, y_position))\n",
    "    asteroid_list.append(asteroid_rectangle)\n",
    "\n",
    "# BugReport\n",
    "# Sollte es hier zuviele Asteroiden auf einmal geben, sind die Events nicht im EventLoop\n",
    "# Eventuelles komisches Laserverhalten hat die gleiche Ursache"
   ]
  },
  {
   "cell_type": "markdown",
   "metadata": {},
   "source": [
    "***"
   ]
  },
  {
   "cell_type": "markdown",
   "metadata": {},
   "source": [
    "## **<span style=\"color:deepskyblue\">Zufällige Richtung mit Vektoren</span>**"
   ]
  }
 ],
 "metadata": {
  "kernelspec": {
   "display_name": "Python 3",
   "language": "python",
   "name": "python3"
  },
  "language_info": {
   "codemirror_mode": {
    "name": "ipython",
    "version": 3
   },
   "file_extension": ".py",
   "mimetype": "text/x-python",
   "name": "python",
   "nbconvert_exporter": "python",
   "pygments_lexer": "ipython3",
   "version": "3.12.0"
  }
 },
 "nbformat": 4,
 "nbformat_minor": 2
}
