{
 "cells": [
  {
   "cell_type": "markdown",
   "metadata": {},
   "source": [
    "# **<span style=\"color:deepskyblue\">Player Input</span>**\n",
    "\n",
    "+ Keys\n",
    "+ Mouse\n",
    "+ Gamepads"
   ]
  },
  {
   "cell_type": "markdown",
   "metadata": {},
   "source": [
    "***"
   ]
  },
  {
   "cell_type": "markdown",
   "metadata": {},
   "source": [
    "## **<span style=\"color:deepskyblue\">Mouse Inputs</span>**"
   ]
  },
  {
   "attachments": {
    "image.png": {
     "image/png": "[encoded data removed]"
    }
   },
   "cell_type": "markdown",
   "metadata": {},
   "source": [
    "[Pygame Docs Events](https://www.pygame.org/docs/ref/event.html)\n",
    "\n",
    "![image.png](attachment:image.png)"
   ]
  },
  {
   "cell_type": "markdown",
   "metadata": {},
   "source": [
    "***"
   ]
  },
  {
   "cell_type": "markdown",
   "metadata": {},
   "source": [
    "## **<span style=\"color:deepskyblue\">Inputs im Event Loop</span>**"
   ]
  },
  {
   "cell_type": "code",
   "execution_count": null,
   "metadata": {},
   "outputs": [],
   "source": [
    "import pygame\n",
    "import sys\n",
    "\n",
    "# GAME LOOP\n",
    "while True:\n",
    "    # 1. Player Inputs \n",
    "    for event in pygame.event.get():\n",
    "        if event.type == pygame.QUIT:\n",
    "            pygame.quit() \n",
    "            sys.exit()\n",
    "        \n",
    "        # # # # # Nuuuuuh # # # # # # \n",
    "        if event.type == pygame.MOUSEMOTION:\n",
    "            print(event.pos) # buttons optional"
   ]
  },
  {
   "cell_type": "markdown",
   "metadata": {},
   "source": [
    "***"
   ]
  },
  {
   "cell_type": "markdown",
   "metadata": {},
   "source": [
    "## **<span style=\"color:#fcba04\">Code</span> Challenge**\n",
    "\n",
    "Nutze die Position der Mouse um das Spieler Raumschiff zu steuern.\n"
   ]
  },
  {
   "cell_type": "markdown",
   "metadata": {},
   "source": [
    "<div class=\"alert alert-block alert-success\">\n",
    "<b>Lösung Mouse Position Controls</b>\n",
    "</div>"
   ]
  },
  {
   "cell_type": "code",
   "execution_count": null,
   "metadata": {},
   "outputs": [],
   "source": [
    "import pygame\n",
    "import sys\n",
    "path = \"Game Dev Projects/01 Space Shooter/\"\n",
    "\n",
    "pygame.init()\n",
    "clock = pygame.time.Clock()\n",
    "WINDOW_WIDTH, WINDOW_HEIGHT = 1280, 720\n",
    "display = pygame.display.set_mode((WINDOW_WIDTH, WINDOW_HEIGHT))\n",
    "\n",
    "ship_surface = pygame.image.load(path+\"images/player/SmartSpaceShip.png\").convert_alpha()\n",
    "ship_rectangle = ship_surface.get_rect(center = (WINDOW_WIDTH / 2, WINDOW_HEIGHT / 2)) \n",
    "background_surface = pygame.image.load(path+\"./images/background/background1.png\").convert()\n",
    "font = pygame.font.Font(path+\"./fonts/subatomic.ttf\", 50)\n",
    "titel_surface = font.render(\"Space Boi\", True, \"White\")\n",
    "titel_rectangle = titel_surface.get_rect(center=(WINDOW_WIDTH / 2, 150))\n",
    "\n",
    "# GAME LOOP\n",
    "while True:\n",
    "    # 1. Player Inputs \n",
    "    for event in pygame.event.get():\n",
    "        if event.type == pygame.QUIT:\n",
    "            pygame.quit() \n",
    "            sys.exit()\n",
    "    \n",
    "        if event.type == pygame.MOUSEMOTION:\n",
    "            ship_rectangle.center = event.pos # buttons optional\n",
    "            \n",
    "    #Limiting Frame Rate\n",
    "    clock.tick(60)\n",
    "    \n",
    "    # 2. Updates\n",
    "    display.fill((0, 0, 0))\n",
    "    display.blit(background_surface, (0, 0))\n",
    "    display.blit(ship_surface, ship_rectangle)\n",
    "    display.blit(titel_surface, titel_rectangle)\n",
    "    \n",
    "    # 3. Show Frame to Player -> update display_surface\n",
    "    pygame.display.update()"
   ]
  },
  {
   "cell_type": "code",
   "execution_count": null,
   "metadata": {},
   "outputs": [],
   "source": [
    "if event.type == pygame.MOUSEBUTTONDOWN:\n",
    "    print(event.pos)"
   ]
  },
  {
   "cell_type": "markdown",
   "metadata": {},
   "source": [
    "***"
   ]
  },
  {
   "cell_type": "markdown",
   "metadata": {},
   "source": [
    "## **<span style=\"color:deepskyblue\">Pygame Mouse</span>**\n",
    "\n",
    "[Pygame Docs Mouse](https://www.pygame.org/docs/ref/mouse.html)"
   ]
  },
  {
   "cell_type": "code",
   "execution_count": null,
   "metadata": {},
   "outputs": [],
   "source": [
    "# GAME LOOP\n",
    "while True:\n",
    "    # 1. Player Inputs \n",
    "    for event in pygame.event.get():\n",
    "        if event.type == pygame.QUIT:\n",
    "            pygame.quit() \n",
    "            sys.exit()\n",
    "            # Inputs wieder raus aus dem Event Loop\n",
    "    #Limiting Frame Rate\n",
    "    clock.tick(60)\n",
    "    \n",
    "    # >>>>>>>> Actual Inputs here <<<<<<<<\n",
    "    print(pygame.Mouse.get_pos())\n",
    "    print(pygame.Mouse.get_pressed())\n",
    "    \n",
    "    # 2. Updates\n",
    "    display.fill((0, 0, 0))\n",
    "    display.blit(background_surface, (0, 0))\n",
    "    display.blit(ship_surface, ship_rectangle)\n",
    "    display.blit(titel_surface, titel_rectangle)\n",
    "    \n",
    "    # 3. Show Frame to Player -> update display_surface\n",
    "    pygame.display.update()"
   ]
  },
  {
   "cell_type": "markdown",
   "metadata": {},
   "source": [
    "***"
   ]
  },
  {
   "cell_type": "markdown",
   "metadata": {},
   "source": [
    "## **<span style=\"color:#fcba04\">Code</span> Challenge**\n",
    "\n",
    "Nutze die Position der Mouse mit *pygame.Mouse.get_pos()* um das Spieler Raumschiff zu steuern.\n",
    "\n",
    "<div class=\"alert alert-block alert-success\">\n",
    "<b>Lösung Mouse Position Controls 2</b>\n",
    "</div>"
   ]
  },
  {
   "cell_type": "code",
   "execution_count": null,
   "metadata": {},
   "outputs": [],
   "source": [
    "# >>>>>>>> Actual Inputs here <<<<<<<<\n",
    "ship_rectangle.center = pygame.Mouse.get_pos()"
   ]
  },
  {
   "cell_type": "markdown",
   "metadata": {},
   "source": [
    "***"
   ]
  },
  {
   "cell_type": "markdown",
   "metadata": {},
   "source": [
    "## **True <span style=\"color:#fcba04\">Code</span> Challenge**\n",
    "\n",
    "Wir wollen mit Controller zocken 🎮😏🤌🏽\n",
    "\n",
    "[Pygame Docs Controller](https://www.pygame.org/docs/ref/sdl2_controller.html#module-pygame._sdl2.controller)"
   ]
  },
  {
   "cell_type": "markdown",
   "metadata": {},
   "source": [
    "<div class=\"alert alert-block alert-success\">\n",
    "<b>Lösung GamePads und Joysticks</b>\n",
    "</div>"
   ]
  },
  {
   "cell_type": "code",
   "execution_count": null,
   "metadata": {},
   "outputs": [],
   "source": [
    "# Get Gamepads and Joysticks here\n",
    "pygame.joystick.init()\n",
    "joysticks = [pygame.joystick.Joystick(i) for i in range(pygame.joystick.get_count())]\n",
    "\n",
    "# für das Spieler Objekt vlt folgende Methode rein\n",
    "def move(x_speed, y_speed):\n",
    "    ship_rectangle.move_ip((x_speed, y_speed))\n",
    "\n",
    "# >>>>>>>> Actual Inputs here <<<<<<<<\n",
    "if event.type == pygame.JOYBUTTONDOWN:\n",
    "    if pygame.joystick.Joystick(0).get_button(0): # X Button\n",
    "        pass\n",
    "\n",
    "# Analog Stick\n",
    "x_speed = round(pygame.joystick.Joystick(0).get_axis(0))\n",
    "y_speed = round(pygame.joystick.Joystick(0).get_axis(4))\n",
    "move(x_speed, y_speed)"
   ]
  },
  {
   "cell_type": "markdown",
   "metadata": {},
   "source": [
    "***"
   ]
  }
 ],
 "metadata": {
  "kernelspec": {
   "display_name": "Python 3",
   "language": "python",
   "name": "python3"
  },
  "language_info": {
   "codemirror_mode": {
    "name": "ipython",
    "version": 3
   },
   "file_extension": ".py",
   "mimetype": "text/x-python",
   "name": "python",
   "nbconvert_exporter": "python",
   "pygments_lexer": "ipython3",
   "version": "3.12.0"
  }
 },
 "nbformat": 4,
 "nbformat_minor": 2
}
