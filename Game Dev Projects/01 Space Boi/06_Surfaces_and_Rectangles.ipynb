{
 "cells": [
  {
   "cell_type": "markdown",
   "metadata": {},
   "source": [
    "# **<span style=\"color:deepskyblue\">Surfaces and Rectangles</span>**\n",
    "\n",
    "## **<span style=\"color:#fcba04\">Code</span> Challenge**\n",
    "\n",
    "+ Importiere ein Laser Image und erstelle ein Rectangle daraus\n",
    "+ die Startposition des Lasers sollte die Top Position des Spielerraumschiffes sein\n",
    "+ anschließend soll sich der Laser dann zum oberen Bildschirmrand und darüber hinaus bewegen"
   ]
  },
  {
   "cell_type": "markdown",
   "metadata": {},
   "source": [
    "<div class=\"alert alert-block alert-success\">\n",
    "<b>Lösung Laser Import</b>\n",
    "</div>"
   ]
  },
  {
   "cell_type": "code",
   "execution_count": null,
   "metadata": {},
   "outputs": [],
   "source": [
    "# Import Images\n",
    "ship_surface = pygame.image.load(path+\"images/player/SmartSpaceShip.png\").convert_alpha()\n",
    "ship_rectangle = ship_surface.get_rect(center = (WINDOW_WIDTH / 2, WINDOW_HEIGHT / 2)) \n",
    "\n",
    "laser_surface = pygame.image.load(path+\"images/projectiles/single_red1.png\").convert_alpha()\n",
    "laser_rectangle = laser_surface.get_rect(midbottom = (ship_rectangle.midtop))\n",
    "\n",
    "# background_surface = pygame.image.load(path+\"./images/background/background1.png\").convert()\n",
    "# font = pygame.font.Font(path+\"./fonts/subatomic.ttf\", 50)\n",
    "# titel_surface = font.render(\"Space Boi\", True, \"White\")\n",
    "# titel_rectangle = titel_surface.get_rect(center=(WINDOW_WIDTH / 2, 150))\n",
    "\n",
    "laser_rectangle.y -= 10\n",
    "\n",
    "# # # # im Update bereich # # # # \n",
    "display.blit(laser_surface, laser_rectangle)"
   ]
  },
  {
   "cell_type": "markdown",
   "metadata": {},
   "source": [
    "***"
   ]
  }
 ],
 "metadata": {
  "kernelspec": {
   "display_name": "Python 3",
   "language": "python",
   "name": "python3"
  },
  "language_info": {
   "codemirror_mode": {
    "name": "ipython",
    "version": 3
   },
   "file_extension": ".py",
   "mimetype": "text/x-python",
   "name": "python",
   "nbconvert_exporter": "python",
   "pygments_lexer": "ipython3",
   "version": "3.12.0"
  }
 },
 "nbformat": 4,
 "nbformat_minor": 2
}
