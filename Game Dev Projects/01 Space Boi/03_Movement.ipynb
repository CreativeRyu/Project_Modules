{
 "cells": [
  {
   "cell_type": "markdown",
   "metadata": {},
   "source": [
    "# **<span style=\"color:deepskyblue\">Movement</span>**\n",
    "\n",
    "Nur wer sich bewegt, kommt nach vorn.\n",
    "\n",
    "Die Position von einem beliebigen <span style=\"color:hotpink\">Surface</span> kann jedes Mal,\\\n",
    "wenn es mit der *blit()* Methode auf dem <span style=\"color:skyblue\">Display Surface</span> platziert wird,\\\n",
    "verändert werden.\n",
    "\n",
    "Das <span style=\"color:skyblue\">Display Surface</span> wird mit jeder Interation des Game Loops neu \"gezeichnet\".\n",
    "\n",
    "Die Bewegung ergibt sich aus kleinen Veränderungen der Position, in eine Richtung."
   ]
  },
  {
   "cell_type": "markdown",
   "metadata": {},
   "source": [
    "***"
   ]
  },
  {
   "cell_type": "markdown",
   "metadata": {},
   "source": [
    "## **<span style=\"color:deepskyblue\">Space Ship Movement</span>**"
   ]
  },
  {
   "cell_type": "code",
   "execution_count": null,
   "metadata": {},
   "outputs": [],
   "source": [
    "import pygame\n",
    "\n",
    "WINDOW_WIDTH, WINDOW_HEIGHT = 1280, 720\n",
    "display = pygame.display.set_mode((WINDOW_WIDTH, WINDOW_HEIGHT))\n",
    "\n",
    "ship_surface = pygame.image.load(path+\"images/player/SmartSpaceShip.png\").convert_alpha()\n",
    "# TODO 1. an dieser Stelle eine y Position bzw. Koordinate für das Spielerraumschiff definieren\n",
    "ship_ycor = 300\n",
    "background_surface = pygame.image.load(path+\"./images/background/background1.png\").convert()\n",
    "font = pygame.font.Font(path+\"./fonts/subatomic.ttf\", 50)\n",
    "text_surface = font.render(\"Space Boi\", True, \"White\")\n",
    "\n",
    "\n",
    "# TODO 2 Bei Updates unten im While Loop dann die Koordinate durch die neue Variable ersetzen\n",
    "# TODO 3 Anschließend den Wert verringern, sodas wir eine Bewegung erzeugen können\n",
    "# 2. Updates\n",
    "display.fill((0, 0, 0))\n",
    "display.blit(background_surface, (0, 0))\n",
    "display.blit(ship_surface, (620, ship_ycor))\n",
    "ship_ycor -= 1\n",
    "display.blit(text_surface, (500, 150))"
   ]
  },
  {
   "cell_type": "markdown",
   "metadata": {},
   "source": [
    "***"
   ]
  },
  {
   "cell_type": "markdown",
   "metadata": {},
   "source": [
    "## **<span style=\"color:deepskyblue\">Game Speed</span>**\n",
    "\n",
    "Die Geschwindigkeit hängt grade davon ab, wie schnell der while Loop läuft.\\\n",
    "Mit anderen Worten, wie schnell dieser vom Prozessor verarbeitet wird.\n"
   ]
  },
  {
   "cell_type": "markdown",
   "metadata": {},
   "source": [
    "| Speed Pixels per Frame | Frames per Second | Total movement per second |\n",
    "|:---------|:-------------|:--------------|\n",
    "| 10 px | 30 | 10 * 30 = 300|\n",
    "| 10 px | 60 | 10 * 60 = 600 |\n",
    "| 10 px | 120 | 10 * 120 = 1200 |"
   ]
  },
  {
   "cell_type": "markdown",
   "metadata": {},
   "source": [
    "Eine Lösung für dieses Problem ist es, die maximale Framerate zu begrenzen.\\\n",
    "Sodass eine Framerate von 60 oder 120 Frames pro Sekunde niemals überschritten wird."
   ]
  },
  {
   "cell_type": "code",
   "execution_count": null,
   "metadata": {},
   "outputs": [],
   "source": [
    "# Beim Initialisieren des Projektes wird ein Clock Objekt erstellt\n",
    "clock = pygame.time.Clock()\n",
    "\n",
    "# im Game Loop nach sys.exit() wird dann die Framerate limitiert\n",
    "clock.tick(60)"
   ]
  },
  {
   "cell_type": "markdown",
   "metadata": {},
   "source": [
    "***"
   ]
  }
 ],
 "metadata": {
  "kernelspec": {
   "display_name": "Python 3",
   "language": "python",
   "name": "python3"
  },
  "language_info": {
   "codemirror_mode": {
    "name": "ipython",
    "version": 3
   },
   "file_extension": ".py",
   "mimetype": "text/x-python",
   "name": "python",
   "nbconvert_exporter": "python",
   "pygments_lexer": "ipython3",
   "version": "3.12.0"
  }
 },
 "nbformat": 4,
 "nbformat_minor": 2
}
