{
 "cells": [
  {
   "cell_type": "markdown",
   "metadata": {},
   "source": [
    "# **<span style=\"color:deepskyblue\">Manipulate Surfaces and Rectangles</span>**\n",
    "\n",
    "## **<span style=\"color:#fcba04\">Code</span> Challenge**\n",
    "\n",
    "+ Importiere ein Laser Image und erstelle ein Rectangle daraus\n",
    "+ die Startposition des Lasers sollte die Top Position des Spielerraumschiffes sein\n",
    "+ anschließend soll sich der Laser dann zum oberen Bildschirmrand und darüber hinaus bewegen"
   ]
  },
  {
   "cell_type": "markdown",
   "metadata": {},
   "source": [
    "<div class=\"alert alert-block alert-success\">\n",
    "<b>Lösung Laser Import</b>\n",
    "</div>"
   ]
  },
  {
   "cell_type": "code",
   "execution_count": null,
   "metadata": {},
   "outputs": [],
   "source": [
    "# Import Images\n",
    "ship_surface = pygame.image.load(path+\"images/player/SmartSpaceShip.png\").convert_alpha()\n",
    "ship_rectangle = ship_surface.get_rect(center = (WINDOW_WIDTH / 2, WINDOW_HEIGHT / 2)) \n",
    "\n",
    "laser_surface = pygame.image.load(path+\"images/projectiles/single_red1.png\").convert_alpha()\n",
    "laser_rectangle = laser_surface.get_rect(midbottom = (ship_rectangle.midtop))\n",
    "\n",
    "# background_surface = pygame.image.load(path+\"./images/background/background1.png\").convert()\n",
    "# font = pygame.font.Font(path+\"./fonts/subatomic.ttf\", 50)\n",
    "# titel_surface = font.render(\"Space Boi\", True, \"White\")\n",
    "# titel_rectangle = titel_surface.get_rect(center=(WINDOW_WIDTH / 2, 150))\n",
    "\n",
    "laser_rectangle.y -= 10\n",
    "\n",
    "# # # # im Update bereich # # # # \n",
    "display.blit(laser_surface, laser_rectangle)"
   ]
  },
  {
   "cell_type": "markdown",
   "metadata": {},
   "source": [
    "***"
   ]
  },
  {
   "cell_type": "markdown",
   "metadata": {},
   "source": [
    "## **<span style=\"color:deepskyblue\">Drawing Rectangles</span>**\n",
    "\n",
    "+ Zeichne einen Rahmen um den Text und nutze dafür das text_rectangle"
   ]
  },
  {
   "cell_type": "code",
   "execution_count": null,
   "metadata": {},
   "outputs": [],
   "source": [
    "# pygame.draw.rect(surf, color, rect)\n",
    "\n",
    "# 2. Updates\n",
    "display.fill((0, 0, 0))\n",
    "display.blit(background_surface, (0, 0))\n",
    "display.blit(ship_surface, ship_rectangle)\n",
    "display.blit(laser_surface, laser_rectangle)\n",
    "display.blit(title_surface, title_rectangle)\n",
    "\n",
    "# Draw custom Rectangles here\n",
    "pygame.draw.rect(display, \"white\", title_rectangle) # so setzen wir ein Weißes Rechteck einfach oben drauf\n",
    "# >>>> Deswegen kommen width und borderradius noch mit dazu <<<<\n",
    "pygame.draw.rect(display, \"white\", title_rectangle, width=10, border_radius=5)\n",
    "\n",
    "# draw final frame\n",
    "pygame.display.update()"
   ]
  },
  {
   "cell_type": "markdown",
   "metadata": {},
   "source": [
    "## **<span style=\"color:deepskyblue\">Inflate()</span>**"
   ]
  },
  {
   "cell_type": "code",
   "execution_count": null,
   "metadata": {},
   "outputs": [],
   "source": [
    "pygame.draw.rect(display, \"white\", title_rectangle.inflate(200, 0), width=10, border_radius=5)"
   ]
  },
  {
   "cell_type": "markdown",
   "metadata": {},
   "source": [
    "***"
   ]
  },
  {
   "cell_type": "markdown",
   "metadata": {},
   "source": [
    "## **<span style=\"color:deepskyblue\">Transform</span>**\n",
    "\n",
    "<span style=\"color:skyblue\">Surfaces</span> können transformiert werden:\n",
    "\n",
    "+ Scale\n",
    "+ Flip\n",
    "+ Rotate"
   ]
  },
  {
   "cell_type": "markdown",
   "metadata": {},
   "source": [
    "## **<span style=\"color:#fcba04\">Code</span> Challenge**\n",
    "\n",
    "+ Das Raumschiff ist zu klein, verdopple die Größe des Schiffes mit einer transform Methode\n"
   ]
  },
  {
   "cell_type": "markdown",
   "metadata": {},
   "source": [
    "<div class=\"alert alert-block alert-success\">\n",
    "<b>Lösung Scale up</b>\n",
    "</div>"
   ]
  },
  {
   "cell_type": "code",
   "execution_count": null,
   "metadata": {},
   "outputs": [],
   "source": [
    "hip_surface = pygame.image.load(path+\"images/player/SmartSpaceShip.png\").convert_alpha()\n",
    "ship_surface = pygame.transform.scale2x(ship_surface)"
   ]
  },
  {
   "cell_type": "markdown",
   "metadata": {},
   "source": [
    "***"
   ]
  }
 ],
 "metadata": {
  "kernelspec": {
   "display_name": "Python 3",
   "language": "python",
   "name": "python3"
  },
  "language_info": {
   "codemirror_mode": {
    "name": "ipython",
    "version": 3
   },
   "file_extension": ".py",
   "mimetype": "text/x-python",
   "name": "python",
   "nbconvert_exporter": "python",
   "pygments_lexer": "ipython3",
   "version": "3.12.0"
  }
 },
 "nbformat": 4,
 "nbformat_minor": 2
}
