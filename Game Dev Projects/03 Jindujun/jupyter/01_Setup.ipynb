{
 "cells": [
  {
   "cell_type": "markdown",
   "metadata": {},
   "source": [
    "<img src=\"../project/images/Jindujun_Text.png\" style=\"height: 150px\"/>"
   ]
  },
  {
   "cell_type": "markdown",
   "metadata": {},
   "source": [
    "<img src=\"../project/images/KidGoku_Jundujun.gif\" style=\"width: 250px\"/>"
   ]
  },
  {
   "cell_type": "markdown",
   "metadata": {},
   "source": [
    "***"
   ]
  },
  {
   "attachments": {
    "image.png": {
     "image/png": "[encoded data removed]"
    }
   },
   "cell_type": "markdown",
   "metadata": {},
   "source": [
    "## **<span style=\"color:deepskyblue\">Setup</span>**\n",
    "\n",
    "\n",
    "![image.png](attachment:image.png)"
   ]
  },
  {
   "cell_type": "markdown",
   "metadata": {},
   "source": [
    "***"
   ]
  },
  {
   "cell_type": "code",
   "execution_count": null,
   "metadata": {},
   "outputs": [],
   "source": [
    "# settings.py\n",
    "\n",
    "WINDOW_WIDTH = 480\n",
    "WINDOW_HEIGHT = 800\n",
    "FRAMERATE = 120"
   ]
  },
  {
   "cell_type": "markdown",
   "metadata": {},
   "source": [
    "***"
   ]
  },
  {
   "cell_type": "code",
   "execution_count": null,
   "metadata": {},
   "outputs": [],
   "source": [
    "import pygame\n",
    "import sys\n",
    "import time\n",
    "from settings import *\n",
    "\n",
    "class Game:\n",
    "    def __init__(self):\n",
    "        \n",
    "        # Setup\n",
    "        pygame.init()\n",
    "        self.display_surface = pygame.display.set_mode((WINDOW_WIDTH, WINDOW_HEIGHT))\n",
    "        pygame.display.set_caption(\"Jindujun\")\n",
    "        self.clock = pygame.time.Clock()\n",
    "    \n",
    "    def run(self):\n",
    "        last_time = time.time()\n",
    "        while True:\n",
    "            \n",
    "            # Delta Time\n",
    "            delta_time = time.time() - last_time\n",
    "            last_time = time.time()\n",
    "            \n",
    "            # Event Loop\n",
    "            for event in pygame.event.get():\n",
    "                if event.type == pygame.QUIT:\n",
    "                    pygame.quit()\n",
    "                    sys.exit()\n",
    "            \n",
    "            # Game Logic\n",
    "            pygame.display.update()\n",
    "            self.clock.tick(FRAMERATE)\n",
    "            \n",
    "\n",
    "if __name__ == \"__main__\":\n",
    "    game = Game()\n",
    "    game.run()"
   ]
  },
  {
   "cell_type": "markdown",
   "metadata": {},
   "source": [
    "***"
   ]
  },
  {
   "cell_type": "markdown",
   "metadata": {},
   "source": [
    "## **<span style=\"color:deepskyblue\">Sprite Groups</span>**\n",
    "\n",
    "## **<span style=\"color:#fcba04\">Code</span> Challenge**\n",
    "\n",
    "Erstelle die folgenden zwei Sprite Gruppe in der Game Klasse unter dem Setup Bereich:\n",
    "\n",
    "+ All Sprites Group\n",
    "+ Collision Sprites Group"
   ]
  },
  {
   "cell_type": "markdown",
   "metadata": {},
   "source": [
    "<div class=\"alert alert-block alert-success\">\n",
    "<b>Lösung Sprite Groups</b>\n",
    "</div>"
   ]
  },
  {
   "cell_type": "code",
   "execution_count": null,
   "metadata": {},
   "outputs": [],
   "source": [
    "# Sprite Groups\n",
    "self.all_sprites = pygame.sprite.Group()\n",
    "self._collision_sprites = pygame.sprite.Group()"
   ]
  },
  {
   "cell_type": "markdown",
   "metadata": {},
   "source": [
    "***"
   ]
  },
  {
   "cell_type": "markdown",
   "metadata": {},
   "source": [
    "<img src=\"../../db_assets/goku_nimbus_gba.gif\" style=\"height: 220px\"/>"
   ]
  }
 ],
 "metadata": {
  "kernelspec": {
   "display_name": "Python 3",
   "language": "python",
   "name": "python3"
  },
  "language_info": {
   "codemirror_mode": {
    "name": "ipython",
    "version": 3
   },
   "file_extension": ".py",
   "mimetype": "text/x-python",
   "name": "python",
   "nbconvert_exporter": "python",
   "pygments_lexer": "ipython3",
   "version": "3.12.0"
  }
 },
 "nbformat": 4,
 "nbformat_minor": 2
}
